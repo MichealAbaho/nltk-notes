{
 "cells": [
  {
   "cell_type": "code",
   "execution_count": 1,
   "metadata": {
    "collapsed": true
   },
   "outputs": [],
   "source": [
    "import string \n",
    "import pandas as pd\n",
    "import nltk\n",
    "from nltk.tokenize import wordpunct_tokenize,word_tokenize\n",
    "import os\n",
    "import re\n",
    "from sklearn.feature_extraction.text import TfidfVectorizer, CountVectorizer\n",
    "\n",
    "dataset = pd.read_csv(os.getcwd()+'\\\\Ex_Files_NLP_Python_ML_EssT\\\\Exercise Files\\\\Ch01\\\\01_03\\\\Start\\\\SMSSpamCollection.tsv', header=None, sep='\\t')\n",
    "dataset.columns = ['label', 'body_text']\n",
    "\n",
    "#create new features containing the percentage of punctuation in text and the body length of text \n",
    "\n",
    "def count_punctuation_and_body_len(text):\n",
    "    punct_count = [char for char in text if char in string.punctuation]\n",
    "    body_len = len(text) - text.count(\" \")\n",
    "    punct_perc = round(len(punct_count)/body_len, 3)*100\n",
    "    return body_len, punct_perc\n",
    "\n",
    "dataset['body_len'] = dataset['body_text'].apply(lambda x: count_punctuation_and_body_len(x)[0])\n",
    "dataset['punc%'] = dataset['body_text'].apply(lambda x: count_punctuation_and_body_len(x)[1])\n",
    "\n",
    "sp_words = nltk.corpus.stopwords.words('english')\n",
    "ps = nltk.PorterStemmer()\n",
    "def clean_data(text):\n",
    "    tokens = ''.join([char for char in text if char not in string.punctuation])\n",
    "    tokens_punct = re.split('\\s+', tokens)\n",
    "    tokens_stop = [token.lower()  for token in tokens_punct if token not in sp_words]\n",
    "    clean_text = [ps.stem(word) for word in tokens_stop]\n",
    "    return clean_text\n"
   ]
  },
  {
   "cell_type": "markdown",
   "metadata": {},
   "source": [
    "**Step 1: Split into train/test**"
   ]
  },
  {
   "cell_type": "code",
   "execution_count": 3,
   "metadata": {},
   "outputs": [],
   "source": [
    "from sklearn.model_selection import train_test_split\n",
    "\n",
    "X_train, x_test, y_train, y_test = train_test_split(dataset[['body_text', 'body_len', 'punc%']], dataset['label'], test_size=0.2)"
   ]
  },
  {
   "cell_type": "markdown",
   "metadata": {},
   "source": [
    "**Step 2: Vectorize text**"
   ]
  },
  {
   "cell_type": "code",
   "execution_count": 5,
   "metadata": {
    "collapsed": true
   },
   "outputs": [],
   "source": [
    "from sklearn.feature_extraction.text import TfidfVectorizer\n",
    "\n",
    "tfidf_vect = TfidfVectorizer(analyzer=clean_data)\n",
    "tfidf_vect_fit = tfidf_vect.fit(X_train['body_text'])\n",
    "\n",
    "tfidf_vect_train = tfidf_vect_fit.transform(X_train['body_text'])\n",
    "tfidf_vect_test = tfidf_vect_fit.transform(x_test['body_text'])\n",
    "\n",
    "x_train_vect = pd.concat([X_train[['body_len', 'punc%']].reset_index(drop=True), pd.DataFrame(tfidf_vect_train.toarray())],\n",
    "                          axis=1)\n",
    "x_test_vect = pd.concat([x_test[['body_len', 'punc%']].reset_index(drop=True), pd.DataFrame(tfidf_vect_test.toarray())], axis=1)"
   ]
  },
  {
   "cell_type": "markdown",
   "metadata": {},
   "source": [
    "**Step3: Final evaluation of models**"
   ]
  },
  {
   "cell_type": "code",
   "execution_count": 11,
   "metadata": {
    "collapsed": true
   },
   "outputs": [],
   "source": [
    "from sklearn.ensemble import RandomForestClassifier, GradientBoostingClassifier\n",
    "from sklearn.metrics import precision_recall_fscore_support as score\n",
    "import time"
   ]
  },
  {
   "cell_type": "code",
   "execution_count": 15,
   "metadata": {},
   "outputs": [
    {
     "name": "stdout",
     "output_type": "stream",
     "text": [
      "fit_time: 8.883 / Predict_time: 0.291 /Precision: 1.0 / Recall: 0.796 / fscore: 0.886 / Accuracy: 0.973\n"
     ]
    }
   ],
   "source": [
    "#Random_forest\n",
    "rf = RandomForestClassifier(n_estimators=150, max_depth=None, n_jobs=-1)\n",
    "start = time.time()\n",
    "rf_model = rf.fit(x_train_vect, y_train)\n",
    "end = time.time()\n",
    "fit_time = end-start\n",
    "\n",
    "start_pred = time.time()\n",
    "y_pred = rf_model.predict(x_test_vect)\n",
    "end_pred = time.time()\n",
    "pred_time = end_pred - start_pred\n",
    "\n",
    "precision, recall, fscore, support = score(y_test, y_pred, pos_label='spam', average='binary')\n",
    "\n",
    "print ('fit_time: {} / Predict_time: {} /Precision: {} / Recall: {} / fscore: {} / Accuracy: {}'.format(round(fit_time,3),\n",
    "                                                                                     round(pred_time,3),\n",
    "                                                                                     round(precision, 3),\n",
    "                                                                      round(recall, 3),\n",
    "                                                                      round(fscore, 3),\n",
    "                                                                      round((y_pred == y_test).sum()/len(y_pred), 3)))"
   ]
  },
  {
   "cell_type": "code",
   "execution_count": 16,
   "metadata": {},
   "outputs": [
    {
     "name": "stdout",
     "output_type": "stream",
     "text": [
      "fit_time: 391.995 / Predict_time: 0.295 /Precision: 1.0 / Recall: 0.796 / fscore: 0.886 / Accuracy: 0.973\n"
     ]
    }
   ],
   "source": [
    "#Random_forest\n",
    "gb = GradientBoostingClassifier(n_estimators=150, max_depth=11)\n",
    "start = time.time()\n",
    "gb_model = gb.fit(x_train_vect, y_train)\n",
    "end = time.time()\n",
    "fit_time = end-start\n",
    "\n",
    "start_pred = time.time()\n",
    "y_pred = rf_model.predict(x_test_vect)\n",
    "end_pred = time.time()\n",
    "pred_time = end_pred - start_pred\n",
    "\n",
    "precision, recall, fscore, support = score(y_test, y_pred, pos_label='spam', average='binary')\n",
    "\n",
    "print ('fit_time: {} / Predict_time: {} /Precision: {} / Recall: {} / fscore: {} / Accuracy: {}'.format(round(fit_time,3),\n",
    "                                                                                     round(pred_time,3),\n",
    "                                                                                     round(precision, 3),\n",
    "                                                                      round(recall, 3),\n",
    "                                                                      round(fscore, 3),\n",
    "                                                                      round((y_pred == y_test).sum()/len(y_pred), 3)))"
   ]
  },
  {
   "cell_type": "markdown",
   "metadata": {},
   "source": [
    "Further Evaluation:\n",
    "    * Slice the testset in a variety of ways\n",
    "    * Examine the text messages that are mis-classified\n",
    "\n",
    "Results trade off - Consider business context:\n",
    "    * Is predict time really important\n",
    "    * Precision - spam filter\n",
    "    * recall - antivirus"
   ]
  },
  {
   "cell_type": "code",
   "execution_count": null,
   "metadata": {
    "collapsed": true
   },
   "outputs": [],
   "source": []
  }
 ],
 "metadata": {
  "kernelspec": {
   "display_name": "Python 3",
   "language": "python",
   "name": "python3"
  },
  "language_info": {
   "codemirror_mode": {
    "name": "ipython",
    "version": 3
   },
   "file_extension": ".py",
   "mimetype": "text/x-python",
   "name": "python",
   "nbconvert_exporter": "python",
   "pygments_lexer": "ipython3",
   "version": "3.6.3"
  }
 },
 "nbformat": 4,
 "nbformat_minor": 2
}
