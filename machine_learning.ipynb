{
 "cells": [
  {
   "cell_type": "markdown",
   "metadata": {},
   "source": [
    "**ENSEMBLE LEARNING.**\n",
    "\n",
    "Technique createsmultiple models and then combines them to produce better results than any of the single models\n",
    "\n",
    "**Random Forest**\n",
    "        - Can be used for classification and regression\n",
    "        - Easily handles outlier\n",
    "        - Accepts various types of inputs(Continuos, ordinal)\n",
    "        - Less likely to overfit\n",
    "        - Outputs feature importances."
   ]
  },
  {
   "cell_type": "raw",
   "metadata": {},
   "source": [
    "CLEANING UP OUR DATAAND INTRODUCING FEATURES TO THE DATASET"
   ]
  },
  {
   "cell_type": "code",
   "execution_count": 53,
   "metadata": {},
   "outputs": [
    {
     "data": {
      "text/html": [
       "<div>\n",
       "<style>\n",
       "    .dataframe thead tr:only-child th {\n",
       "        text-align: right;\n",
       "    }\n",
       "\n",
       "    .dataframe thead th {\n",
       "        text-align: left;\n",
       "    }\n",
       "\n",
       "    .dataframe tbody tr th {\n",
       "        vertical-align: top;\n",
       "    }\n",
       "</style>\n",
       "<table border=\"1\" class=\"dataframe\">\n",
       "  <thead>\n",
       "    <tr style=\"text-align: right;\">\n",
       "      <th></th>\n",
       "      <th>label</th>\n",
       "      <th>body_text</th>\n",
       "      <th>cleaned_text</th>\n",
       "      <th>body_len</th>\n",
       "      <th>punc%</th>\n",
       "    </tr>\n",
       "  </thead>\n",
       "  <tbody>\n",
       "    <tr>\n",
       "      <th>0</th>\n",
       "      <td>ham</td>\n",
       "      <td>I've been searching for the right words to tha...</td>\n",
       "      <td>[ive, search, right, word, thank, breather, i,...</td>\n",
       "      <td>160</td>\n",
       "      <td>2.5</td>\n",
       "    </tr>\n",
       "    <tr>\n",
       "      <th>1</th>\n",
       "      <td>spam</td>\n",
       "      <td>Free entry in 2 a wkly comp to win FA Cup fina...</td>\n",
       "      <td>[free, entri, 2, wkli, comp, win, fa, cup, fin...</td>\n",
       "      <td>128</td>\n",
       "      <td>4.7</td>\n",
       "    </tr>\n",
       "    <tr>\n",
       "      <th>2</th>\n",
       "      <td>ham</td>\n",
       "      <td>Nah I don't think he goes to usf, he lives aro...</td>\n",
       "      <td>[nah, i, dont, think, goe, usf, live, around, ...</td>\n",
       "      <td>49</td>\n",
       "      <td>4.1</td>\n",
       "    </tr>\n",
       "    <tr>\n",
       "      <th>3</th>\n",
       "      <td>ham</td>\n",
       "      <td>Even my brother is not like to speak with me. ...</td>\n",
       "      <td>[even, brother, like, speak, they, treat, like...</td>\n",
       "      <td>62</td>\n",
       "      <td>3.2</td>\n",
       "    </tr>\n",
       "    <tr>\n",
       "      <th>4</th>\n",
       "      <td>ham</td>\n",
       "      <td>I HAVE A DATE ON SUNDAY WITH WILL!!</td>\n",
       "      <td>[i, have, a, date, on, sunday, with, will]</td>\n",
       "      <td>28</td>\n",
       "      <td>7.1</td>\n",
       "    </tr>\n",
       "  </tbody>\n",
       "</table>\n",
       "</div>"
      ],
      "text/plain": [
       "  label                                          body_text  \\\n",
       "0   ham  I've been searching for the right words to tha...   \n",
       "1  spam  Free entry in 2 a wkly comp to win FA Cup fina...   \n",
       "2   ham  Nah I don't think he goes to usf, he lives aro...   \n",
       "3   ham  Even my brother is not like to speak with me. ...   \n",
       "4   ham                I HAVE A DATE ON SUNDAY WITH WILL!!   \n",
       "\n",
       "                                        cleaned_text  body_len  punc%  \n",
       "0  [ive, search, right, word, thank, breather, i,...       160    2.5  \n",
       "1  [free, entri, 2, wkli, comp, win, fa, cup, fin...       128    4.7  \n",
       "2  [nah, i, dont, think, goe, usf, live, around, ...        49    4.1  \n",
       "3  [even, brother, like, speak, they, treat, like...        62    3.2  \n",
       "4         [i, have, a, date, on, sunday, with, will]        28    7.1  "
      ]
     },
     "execution_count": 53,
     "metadata": {},
     "output_type": "execute_result"
    }
   ],
   "source": [
    "import string \n",
    "import pandas as pd\n",
    "import nltk\n",
    "from nltk.tokenize import wordpunct_tokenize,word_tokenize\n",
    "import os\n",
    "import re\n",
    "\n",
    "dataset = pd.read_csv(os.getcwd()+'\\\\Ex_Files_NLP_Python_ML_EssT\\\\Exercise Files\\\\Ch01\\\\01_03\\\\Start\\\\SMSSpamCollection.tsv', header=None, sep='\\t')\n",
    "dataset.columns = ['label', 'body_text']\n",
    "dataset.sample(5)\n",
    "\n",
    "#create new features containing the percentage of punctuation in text and the body length of text \n",
    "\n",
    "def count_punctuation_and_body_len(text):\n",
    "    punct_count = [char for char in text if char in string.punctuation]\n",
    "    body_len = len(text) - text.count(\" \")\n",
    "    punct_perc = round(len(punct_count)/body_len, 3)*100\n",
    "    return body_len, punct_perc\n",
    "\n",
    "sp_words = nltk.corpus.stopwords.words('english')\n",
    "ps = nltk.PorterStemmer()\n",
    "def clean_data(text):\n",
    "    tokens = ''.join([char for char in text if char not in string.punctuation])\n",
    "    tokens_punct = re.split('\\s+', tokens)\n",
    "    tokens_stop = [token.lower()  for token in tokens_punct if token not in sp_words]\n",
    "    clean_text = [ps.stem(word) for word in tokens_stop]\n",
    "    return clean_text\n",
    "\n",
    "dataset['cleaned_text'] = dataset['body_text'].apply(lambda x: clean_data(x))\n",
    "dataset['body_len'] = dataset['body_text'].apply(lambda x: count_punctuation_and_body_len(x)[0])\n",
    "dataset['punc%'] = dataset['body_text'].apply(lambda x: count_punctuation_and_body_len(x)[1])    \n",
    "dataset.head()"
   ]
  },
  {
   "cell_type": "raw",
   "metadata": {},
   "source": [
    "APPLY VECTORIZATION"
   ]
  },
  {
   "cell_type": "code",
   "execution_count": 59,
   "metadata": {},
   "outputs": [
    {
     "data": {
      "text/html": [
       "<div>\n",
       "<style>\n",
       "    .dataframe thead tr:only-child th {\n",
       "        text-align: right;\n",
       "    }\n",
       "\n",
       "    .dataframe thead th {\n",
       "        text-align: left;\n",
       "    }\n",
       "\n",
       "    .dataframe tbody tr th {\n",
       "        vertical-align: top;\n",
       "    }\n",
       "</style>\n",
       "<table border=\"1\" class=\"dataframe\">\n",
       "  <thead>\n",
       "    <tr style=\"text-align: right;\">\n",
       "      <th></th>\n",
       "      <th>body_len</th>\n",
       "      <th>punc%</th>\n",
       "      <th>0</th>\n",
       "      <th>1</th>\n",
       "      <th>2</th>\n",
       "      <th>3</th>\n",
       "      <th>4</th>\n",
       "      <th>5</th>\n",
       "      <th>6</th>\n",
       "      <th>7</th>\n",
       "      <th>...</th>\n",
       "      <th>8265</th>\n",
       "      <th>8266</th>\n",
       "      <th>8267</th>\n",
       "      <th>8268</th>\n",
       "      <th>8269</th>\n",
       "      <th>8270</th>\n",
       "      <th>8271</th>\n",
       "      <th>8272</th>\n",
       "      <th>8273</th>\n",
       "      <th>8274</th>\n",
       "    </tr>\n",
       "  </thead>\n",
       "  <tbody>\n",
       "    <tr>\n",
       "      <th>0</th>\n",
       "      <td>160</td>\n",
       "      <td>2.5</td>\n",
       "      <td>0.0</td>\n",
       "      <td>0.0</td>\n",
       "      <td>0.0</td>\n",
       "      <td>0.0</td>\n",
       "      <td>0.0</td>\n",
       "      <td>0.0</td>\n",
       "      <td>0.0</td>\n",
       "      <td>0.0</td>\n",
       "      <td>...</td>\n",
       "      <td>0.0</td>\n",
       "      <td>0.0</td>\n",
       "      <td>0.0</td>\n",
       "      <td>0.0</td>\n",
       "      <td>0.0</td>\n",
       "      <td>0.0</td>\n",
       "      <td>0.0</td>\n",
       "      <td>0.0</td>\n",
       "      <td>0.0</td>\n",
       "      <td>0.0</td>\n",
       "    </tr>\n",
       "    <tr>\n",
       "      <th>1</th>\n",
       "      <td>128</td>\n",
       "      <td>4.7</td>\n",
       "      <td>0.0</td>\n",
       "      <td>0.0</td>\n",
       "      <td>0.0</td>\n",
       "      <td>0.0</td>\n",
       "      <td>0.0</td>\n",
       "      <td>0.0</td>\n",
       "      <td>0.0</td>\n",
       "      <td>0.0</td>\n",
       "      <td>...</td>\n",
       "      <td>0.0</td>\n",
       "      <td>0.0</td>\n",
       "      <td>0.0</td>\n",
       "      <td>0.0</td>\n",
       "      <td>0.0</td>\n",
       "      <td>0.0</td>\n",
       "      <td>0.0</td>\n",
       "      <td>0.0</td>\n",
       "      <td>0.0</td>\n",
       "      <td>0.0</td>\n",
       "    </tr>\n",
       "    <tr>\n",
       "      <th>2</th>\n",
       "      <td>49</td>\n",
       "      <td>4.1</td>\n",
       "      <td>0.0</td>\n",
       "      <td>0.0</td>\n",
       "      <td>0.0</td>\n",
       "      <td>0.0</td>\n",
       "      <td>0.0</td>\n",
       "      <td>0.0</td>\n",
       "      <td>0.0</td>\n",
       "      <td>0.0</td>\n",
       "      <td>...</td>\n",
       "      <td>0.0</td>\n",
       "      <td>0.0</td>\n",
       "      <td>0.0</td>\n",
       "      <td>0.0</td>\n",
       "      <td>0.0</td>\n",
       "      <td>0.0</td>\n",
       "      <td>0.0</td>\n",
       "      <td>0.0</td>\n",
       "      <td>0.0</td>\n",
       "      <td>0.0</td>\n",
       "    </tr>\n",
       "    <tr>\n",
       "      <th>3</th>\n",
       "      <td>62</td>\n",
       "      <td>3.2</td>\n",
       "      <td>0.0</td>\n",
       "      <td>0.0</td>\n",
       "      <td>0.0</td>\n",
       "      <td>0.0</td>\n",
       "      <td>0.0</td>\n",
       "      <td>0.0</td>\n",
       "      <td>0.0</td>\n",
       "      <td>0.0</td>\n",
       "      <td>...</td>\n",
       "      <td>0.0</td>\n",
       "      <td>0.0</td>\n",
       "      <td>0.0</td>\n",
       "      <td>0.0</td>\n",
       "      <td>0.0</td>\n",
       "      <td>0.0</td>\n",
       "      <td>0.0</td>\n",
       "      <td>0.0</td>\n",
       "      <td>0.0</td>\n",
       "      <td>0.0</td>\n",
       "    </tr>\n",
       "    <tr>\n",
       "      <th>4</th>\n",
       "      <td>28</td>\n",
       "      <td>7.1</td>\n",
       "      <td>0.0</td>\n",
       "      <td>0.0</td>\n",
       "      <td>0.0</td>\n",
       "      <td>0.0</td>\n",
       "      <td>0.0</td>\n",
       "      <td>0.0</td>\n",
       "      <td>0.0</td>\n",
       "      <td>0.0</td>\n",
       "      <td>...</td>\n",
       "      <td>0.0</td>\n",
       "      <td>0.0</td>\n",
       "      <td>0.0</td>\n",
       "      <td>0.0</td>\n",
       "      <td>0.0</td>\n",
       "      <td>0.0</td>\n",
       "      <td>0.0</td>\n",
       "      <td>0.0</td>\n",
       "      <td>0.0</td>\n",
       "      <td>0.0</td>\n",
       "    </tr>\n",
       "  </tbody>\n",
       "</table>\n",
       "<p>5 rows × 8277 columns</p>\n",
       "</div>"
      ],
      "text/plain": [
       "   body_len  punc%    0    1    2    3    4    5    6    7  ...   8265  8266  \\\n",
       "0       160    2.5  0.0  0.0  0.0  0.0  0.0  0.0  0.0  0.0  ...    0.0   0.0   \n",
       "1       128    4.7  0.0  0.0  0.0  0.0  0.0  0.0  0.0  0.0  ...    0.0   0.0   \n",
       "2        49    4.1  0.0  0.0  0.0  0.0  0.0  0.0  0.0  0.0  ...    0.0   0.0   \n",
       "3        62    3.2  0.0  0.0  0.0  0.0  0.0  0.0  0.0  0.0  ...    0.0   0.0   \n",
       "4        28    7.1  0.0  0.0  0.0  0.0  0.0  0.0  0.0  0.0  ...    0.0   0.0   \n",
       "\n",
       "   8267  8268  8269  8270  8271  8272  8273  8274  \n",
       "0   0.0   0.0   0.0   0.0   0.0   0.0   0.0   0.0  \n",
       "1   0.0   0.0   0.0   0.0   0.0   0.0   0.0   0.0  \n",
       "2   0.0   0.0   0.0   0.0   0.0   0.0   0.0   0.0  \n",
       "3   0.0   0.0   0.0   0.0   0.0   0.0   0.0   0.0  \n",
       "4   0.0   0.0   0.0   0.0   0.0   0.0   0.0   0.0  \n",
       "\n",
       "[5 rows x 8277 columns]"
      ]
     },
     "execution_count": 59,
     "metadata": {},
     "output_type": "execute_result"
    }
   ],
   "source": [
    "#vectorizing\n",
    "from sklearn.feature_extraction.text import TfidfVectorizer\n",
    "\n",
    "def return_cleaned_text_string(text):\n",
    "    string_version = ''.join(text)\n",
    "    return string_version\n",
    "\n",
    "dataset['body_text_new'] = dataset['cleaned_text'].apply(lambda x: return_cleaned_text_string(x))\n",
    "\n",
    "tfidf_vect = TfidfVectorizer(analyzer=clean_data)\n",
    "x_tfidf = tfidf_vect.fit_transform(dataset['body_text'])\n",
    "dataset_frame = pd.DataFrame(x_tfidf.toarray())\n",
    "x_features = pd.concat([dataset[['body_len','punc%']], dataset_frame], axis=1)\n",
    "x_features.head()"
   ]
  },
  {
   "cell_type": "code",
   "execution_count": 1,
   "metadata": {},
   "outputs": [
    {
     "name": "stdout",
     "output_type": "stream",
     "text": [
      "['__abstractmethods__', '__class__', '__delattr__', '__dict__', '__dir__', '__doc__', '__eq__', '__format__', '__ge__', '__getattribute__', '__getitem__', '__getstate__', '__gt__', '__hash__', '__init__', '__init_subclass__', '__iter__', '__le__', '__len__', '__lt__', '__module__', '__ne__', '__new__', '__reduce__', '__reduce_ex__', '__repr__', '__setattr__', '__setstate__', '__sizeof__', '__str__', '__subclasshook__', '__weakref__', '_abc_cache', '_abc_negative_cache', '_abc_negative_cache_version', '_abc_registry', '_estimator_type', '_get_param_names', '_make_estimator', '_set_oob_score', '_validate_X_predict', '_validate_estimator', '_validate_y_class_weight', 'apply', 'decision_path', 'feature_importances_', 'fit', 'get_params', 'predict', 'predict_log_proba', 'predict_proba', 'score', 'set_params']\n",
      "RandomForestClassifier(bootstrap=True, class_weight=None, criterion='gini',\n",
      "            max_depth=None, max_features='auto', max_leaf_nodes=None,\n",
      "            min_impurity_decrease=0.0, min_impurity_split=None,\n",
      "            min_samples_leaf=1, min_samples_split=2,\n",
      "            min_weight_fraction_leaf=0.0, n_estimators=10, n_jobs=1,\n",
      "            oob_score=False, random_state=None, verbose=0,\n",
      "            warm_start=False)\n"
     ]
    }
   ],
   "source": [
    "from sklearn.ensemble import RandomForestClassifier\n",
    "\n",
    "print (dir(RandomForestClassifier))\n",
    "print (RandomForestClassifier())"
   ]
  },
  {
   "cell_type": "code",
   "execution_count": null,
   "metadata": {
    "collapsed": true
   },
   "outputs": [],
   "source": [
    "RUNNING RANDOM FOREST "
   ]
  },
  {
   "cell_type": "code",
   "execution_count": 60,
   "metadata": {},
   "outputs": [
    {
     "data": {
      "text/plain": [
       "array([ 0.97217235,  0.97127469,  0.97127469,  0.96046721,  0.97124888])"
      ]
     },
     "execution_count": 60,
     "metadata": {},
     "output_type": "execute_result"
    }
   ],
   "source": [
    "#randomforest in action\n",
    "from sklearn.model_selection import KFold, cross_val_score\n",
    "\n",
    "rf = RandomForestClassifier(n_jobs=-1)\n",
    "k_fold = KFold(n_splits=5)\n",
    "cross_val_score(rf, x_features, dataset['label'], cv=k_fold, scoring='accuracy', n_jobs=-1)"
   ]
  },
  {
   "cell_type": "raw",
   "metadata": {},
   "source": [
    "RUNNING RANDOM FOREST THROUGH HOLDOUT SET"
   ]
  },
  {
   "cell_type": "code",
   "execution_count": 35,
   "metadata": {
    "collapsed": true
   },
   "outputs": [],
   "source": [
    "from sklearn.metrics import precision_recall_fscore_support as score\n",
    "from sklearn.model_selection import train_test_split\n",
    "from sklearn.ensemble import RandomForestClassifier"
   ]
  },
  {
   "cell_type": "code",
   "execution_count": 61,
   "metadata": {},
   "outputs": [
    {
     "data": {
      "text/plain": [
       "[(0.069080512716422821, 'body_len'),\n",
       " (0.037360906493643473, 3146),\n",
       " (0.029531117807788821, 5784),\n",
       " (0.029422685895495411, 6051),\n",
       " (0.026788616642330548, 6350),\n",
       " (0.026719016342786076, 2025),\n",
       " (0.024638360085304845, 1337),\n",
       " (0.021714342157930552, 1791),\n",
       " (0.020475009758148172, 7433),\n",
       " (0.017680769713600501, 4842)]"
      ]
     },
     "execution_count": 61,
     "metadata": {},
     "output_type": "execute_result"
    }
   ],
   "source": [
    "X_train, X_test, y_train, y_test = train_test_split(x_features, dataset['label'], test_size=0.2)\n",
    "rf = RandomForestClassifier(n_estimators=50, max_depth=20, n_jobs=-1)\n",
    "rf_model = rf.fit(X_train, y_train)\n",
    "sorted(zip(rf_model.feature_importances_, X_train.columns), reverse=True)[:10]"
   ]
  },
  {
   "cell_type": "code",
   "execution_count": 42,
   "metadata": {},
   "outputs": [
    {
     "name": "stdout",
     "output_type": "stream",
     "text": [
      "Precision: 1.0 / Recall: 0.609 / fscore: 0.757 / Accuracy: 0.945\n"
     ]
    }
   ],
   "source": [
    "y_pred = rf_model.predict(X_test)\n",
    "precision, recall, fscore, support = score(y_test, y_pred, pos_label='spam', average='binary')\n",
    "print ('Precision: {} / Recall: {} / fscore: {} / Accuracy: {}'.format(round(precision, 3),\n",
    "                                                                      round(recall, 3),\n",
    "                                                                      round(fscore, 3),\n",
    "                                                                      round((y_pred == y_test).sum()/len(y_pred), 3)))"
   ]
  },
  {
   "cell_type": "raw",
   "metadata": {},
   "source": [
    "IMPROVING THE PERFORMANCE OF OUR MODEL BY BUILDING A GRID-SEARCH FUNCTIONALITY"
   ]
  },
  {
   "cell_type": "code",
   "execution_count": 44,
   "metadata": {
    "collapsed": true
   },
   "outputs": [],
   "source": [
    "def train_RF(n_est, depth):\n",
    "    rf = RandomForestClassifier(n_estimators=n_est, max_depth=depth)\n",
    "    rf_model = rf.fit(X_train, y_train)\n",
    "    y_pred = rf_model.predict(X_test)\n",
    "    precision, recall, fscore, support = score(y_test, y_pred, pos_label='spam', average='binary')\n",
    "    print('Est: {} / Depth: {} --- Precision: {} / Recall: {} / Accuracy: {}'.format(n_est, depth,\n",
    "                                                                              round(precision,3), \n",
    "                                                                              round(recall, 3),\n",
    "                                                                            round((y_pred == y_test).sum()/len(y_pred), 3)))\n",
    "    "
   ]
  },
  {
   "cell_type": "code",
   "execution_count": 45,
   "metadata": {},
   "outputs": [
    {
     "name": "stdout",
     "output_type": "stream",
     "text": [
      "Est: 10 / Depth: 10 --- Precision: 1.0 / Recall: 0.391 / Accuracy: 0.915\n",
      "Est: 10 / Depth: 20 --- Precision: 1.0 / Recall: 0.609 / Accuracy: 0.945\n",
      "Est: 10 / Depth: 30 --- Precision: 0.99 / Recall: 0.641 / Accuracy: 0.949\n",
      "Est: 10 / Depth: None --- Precision: 0.992 / Recall: 0.795 / Accuracy: 0.97\n",
      "Est: 50 / Depth: 10 --- Precision: 1.0 / Recall: 0.276 / Accuracy: 0.899\n",
      "Est: 50 / Depth: 20 --- Precision: 1.0 / Recall: 0.571 / Accuracy: 0.94\n",
      "Est: 50 / Depth: 30 --- Precision: 1.0 / Recall: 0.737 / Accuracy: 0.963\n",
      "Est: 50 / Depth: None --- Precision: 1.0 / Recall: 0.827 / Accuracy: 0.976\n",
      "Est: 100 / Depth: 10 --- Precision: 1.0 / Recall: 0.244 / Accuracy: 0.894\n",
      "Est: 100 / Depth: 20 --- Precision: 1.0 / Recall: 0.603 / Accuracy: 0.944\n",
      "Est: 100 / Depth: 30 --- Precision: 1.0 / Recall: 0.737 / Accuracy: 0.963\n",
      "Est: 100 / Depth: None --- Precision: 1.0 / Recall: 0.827 / Accuracy: 0.976\n"
     ]
    }
   ],
   "source": [
    "for n_est in [10, 50, 100]:\n",
    "    for depth in [10, 20, 30, None]:\n",
    "        train_RF(n_est, depth)"
   ]
  },
  {
   "cell_type": "raw",
   "metadata": {},
   "source": [
    "EVALUATE RANDOM FOREST USING GRIDSEARCH"
   ]
  },
  {
   "cell_type": "code",
   "execution_count": 51,
   "metadata": {
    "collapsed": true
   },
   "outputs": [],
   "source": [
    "from sklearn.ensemble import RandomForestClassifier\n",
    "from sklearn.model_selection import GridSearchCV"
   ]
  },
  {
   "cell_type": "code",
   "execution_count": 52,
   "metadata": {},
   "outputs": [
    {
     "ename": "JoblibValueError",
     "evalue": "JoblibValueError\n___________________________________________________________________________\nMultiprocessing exception:\n...........................................................................\nC:\\Users\\user\\Anaconda3\\lib\\runpy.py in _run_module_as_main(mod_name='ipykernel_launcher', alter_argv=1)\n    188         sys.exit(msg)\n    189     main_globals = sys.modules[\"__main__\"].__dict__\n    190     if alter_argv:\n    191         sys.argv[0] = mod_spec.origin\n    192     return _run_code(code, main_globals, None,\n--> 193                      \"__main__\", mod_spec)\n        mod_spec = ModuleSpec(name='ipykernel_launcher', loader=<_f...nda3\\\\Lib\\\\site-packages\\\\ipykernel_launcher.py')\n    194 \n    195 def run_module(mod_name, init_globals=None,\n    196                run_name=None, alter_sys=False):\n    197     \"\"\"Execute a module's code without importing it\n\n...........................................................................\nC:\\Users\\user\\Anaconda3\\lib\\runpy.py in _run_code(code=<code object <module> at 0x000001F18EEBFAE0, fil...Lib\\site-packages\\ipykernel_launcher.py\", line 5>, run_globals={'__annotations__': {}, '__builtins__': <module 'builtins' (built-in)>, '__cached__': r'C:\\Users\\user\\Anaconda3\\Lib\\site-packages\\__pycache__\\ipykernel_launcher.cpython-36.pyc', '__doc__': 'Entry point for launching an IPython kernel.\\n\\nTh...orts until\\nafter removing the cwd from sys.path.\\n', '__file__': r'C:\\Users\\user\\Anaconda3\\Lib\\site-packages\\ipykernel_launcher.py', '__loader__': <_frozen_importlib_external.SourceFileLoader object>, '__name__': '__main__', '__package__': '', '__spec__': ModuleSpec(name='ipykernel_launcher', loader=<_f...nda3\\\\Lib\\\\site-packages\\\\ipykernel_launcher.py'), 'app': <module 'ipykernel.kernelapp' from 'C:\\\\Users\\\\u...a3\\\\Lib\\\\site-packages\\\\ipykernel\\\\kernelapp.py'>, ...}, init_globals=None, mod_name='__main__', mod_spec=ModuleSpec(name='ipykernel_launcher', loader=<_f...nda3\\\\Lib\\\\site-packages\\\\ipykernel_launcher.py'), pkg_name='', script_name=None)\n     80                        __cached__ = cached,\n     81                        __doc__ = None,\n     82                        __loader__ = loader,\n     83                        __package__ = pkg_name,\n     84                        __spec__ = mod_spec)\n---> 85     exec(code, run_globals)\n        code = <code object <module> at 0x000001F18EEBFAE0, fil...Lib\\site-packages\\ipykernel_launcher.py\", line 5>\n        run_globals = {'__annotations__': {}, '__builtins__': <module 'builtins' (built-in)>, '__cached__': r'C:\\Users\\user\\Anaconda3\\Lib\\site-packages\\__pycache__\\ipykernel_launcher.cpython-36.pyc', '__doc__': 'Entry point for launching an IPython kernel.\\n\\nTh...orts until\\nafter removing the cwd from sys.path.\\n', '__file__': r'C:\\Users\\user\\Anaconda3\\Lib\\site-packages\\ipykernel_launcher.py', '__loader__': <_frozen_importlib_external.SourceFileLoader object>, '__name__': '__main__', '__package__': '', '__spec__': ModuleSpec(name='ipykernel_launcher', loader=<_f...nda3\\\\Lib\\\\site-packages\\\\ipykernel_launcher.py'), 'app': <module 'ipykernel.kernelapp' from 'C:\\\\Users\\\\u...a3\\\\Lib\\\\site-packages\\\\ipykernel\\\\kernelapp.py'>, ...}\n     86     return run_globals\n     87 \n     88 def _run_module_code(code, init_globals=None,\n     89                     mod_name=None, mod_spec=None,\n\n...........................................................................\nC:\\Users\\user\\Anaconda3\\Lib\\site-packages\\ipykernel_launcher.py in <module>()\n     11     # This is added back by InteractiveShellApp.init_path()\n     12     if sys.path[0] == '':\n     13         del sys.path[0]\n     14 \n     15     from ipykernel import kernelapp as app\n---> 16     app.launch_new_instance()\n\n...........................................................................\nC:\\Users\\user\\Anaconda3\\Lib\\site-packages\\traitlets\\config\\application.py in launch_instance(cls=<class 'ipykernel.kernelapp.IPKernelApp'>, argv=None, **kwargs={})\n    653 \n    654         If a global instance already exists, this reinitializes and starts it\n    655         \"\"\"\n    656         app = cls.instance(**kwargs)\n    657         app.initialize(argv)\n--> 658         app.start()\n        app.start = <bound method IPKernelApp.start of <ipykernel.kernelapp.IPKernelApp object>>\n    659 \n    660 #-----------------------------------------------------------------------------\n    661 # utility functions, for convenience\n    662 #-----------------------------------------------------------------------------\n\n...........................................................................\nC:\\Users\\user\\Anaconda3\\Lib\\site-packages\\ipykernel\\kernelapp.py in start(self=<ipykernel.kernelapp.IPKernelApp object>)\n    472             return self.subapp.start()\n    473         if self.poller is not None:\n    474             self.poller.start()\n    475         self.kernel.start()\n    476         try:\n--> 477             ioloop.IOLoop.instance().start()\n    478         except KeyboardInterrupt:\n    479             pass\n    480 \n    481 launch_new_instance = IPKernelApp.launch_instance\n\n...........................................................................\nC:\\Users\\user\\Anaconda3\\Lib\\site-packages\\zmq\\eventloop\\ioloop.py in start(self=<zmq.eventloop.ioloop.ZMQIOLoop object>)\n    172             )\n    173         return loop\n    174     \n    175     def start(self):\n    176         try:\n--> 177             super(ZMQIOLoop, self).start()\n        self.start = <bound method ZMQIOLoop.start of <zmq.eventloop.ioloop.ZMQIOLoop object>>\n    178         except ZMQError as e:\n    179             if e.errno == ETERM:\n    180                 # quietly return on ETERM\n    181                 pass\n\n...........................................................................\nC:\\Users\\user\\Anaconda3\\Lib\\site-packages\\tornado\\ioloop.py in start(self=<zmq.eventloop.ioloop.ZMQIOLoop object>)\n    883                 self._events.update(event_pairs)\n    884                 while self._events:\n    885                     fd, events = self._events.popitem()\n    886                     try:\n    887                         fd_obj, handler_func = self._handlers[fd]\n--> 888                         handler_func(fd_obj, events)\n        handler_func = <function wrap.<locals>.null_wrapper>\n        fd_obj = <zmq.sugar.socket.Socket object>\n        events = 1\n    889                     except (OSError, IOError) as e:\n    890                         if errno_from_exception(e) == errno.EPIPE:\n    891                             # Happens when the client closes the connection\n    892                             pass\n\n...........................................................................\nC:\\Users\\user\\Anaconda3\\Lib\\site-packages\\tornado\\stack_context.py in null_wrapper(*args=(<zmq.sugar.socket.Socket object>, 1), **kwargs={})\n    272         # Fast path when there are no active contexts.\n    273         def null_wrapper(*args, **kwargs):\n    274             try:\n    275                 current_state = _state.contexts\n    276                 _state.contexts = cap_contexts[0]\n--> 277                 return fn(*args, **kwargs)\n        args = (<zmq.sugar.socket.Socket object>, 1)\n        kwargs = {}\n    278             finally:\n    279                 _state.contexts = current_state\n    280         null_wrapper._wrapped = True\n    281         return null_wrapper\n\n...........................................................................\nC:\\Users\\user\\Anaconda3\\Lib\\site-packages\\zmq\\eventloop\\zmqstream.py in _handle_events(self=<zmq.eventloop.zmqstream.ZMQStream object>, fd=<zmq.sugar.socket.Socket object>, events=1)\n    435             # dispatch events:\n    436             if events & IOLoop.ERROR:\n    437                 gen_log.error(\"got POLLERR event on ZMQStream, which doesn't make sense\")\n    438                 return\n    439             if events & IOLoop.READ:\n--> 440                 self._handle_recv()\n        self._handle_recv = <bound method ZMQStream._handle_recv of <zmq.eventloop.zmqstream.ZMQStream object>>\n    441                 if not self.socket:\n    442                     return\n    443             if events & IOLoop.WRITE:\n    444                 self._handle_send()\n\n...........................................................................\nC:\\Users\\user\\Anaconda3\\Lib\\site-packages\\zmq\\eventloop\\zmqstream.py in _handle_recv(self=<zmq.eventloop.zmqstream.ZMQStream object>)\n    467                 gen_log.error(\"RECV Error: %s\"%zmq.strerror(e.errno))\n    468         else:\n    469             if self._recv_callback:\n    470                 callback = self._recv_callback\n    471                 # self._recv_callback = None\n--> 472                 self._run_callback(callback, msg)\n        self._run_callback = <bound method ZMQStream._run_callback of <zmq.eventloop.zmqstream.ZMQStream object>>\n        callback = <function wrap.<locals>.null_wrapper>\n        msg = [<zmq.sugar.frame.Frame object>, <zmq.sugar.frame.Frame object>, <zmq.sugar.frame.Frame object>, <zmq.sugar.frame.Frame object>, <zmq.sugar.frame.Frame object>, <zmq.sugar.frame.Frame object>, <zmq.sugar.frame.Frame object>]\n    473                 \n    474         # self.update_state()\n    475         \n    476 \n\n...........................................................................\nC:\\Users\\user\\Anaconda3\\Lib\\site-packages\\zmq\\eventloop\\zmqstream.py in _run_callback(self=<zmq.eventloop.zmqstream.ZMQStream object>, callback=<function wrap.<locals>.null_wrapper>, *args=([<zmq.sugar.frame.Frame object>, <zmq.sugar.frame.Frame object>, <zmq.sugar.frame.Frame object>, <zmq.sugar.frame.Frame object>, <zmq.sugar.frame.Frame object>, <zmq.sugar.frame.Frame object>, <zmq.sugar.frame.Frame object>],), **kwargs={})\n    409         close our socket.\"\"\"\n    410         try:\n    411             # Use a NullContext to ensure that all StackContexts are run\n    412             # inside our blanket exception handler rather than outside.\n    413             with stack_context.NullContext():\n--> 414                 callback(*args, **kwargs)\n        callback = <function wrap.<locals>.null_wrapper>\n        args = ([<zmq.sugar.frame.Frame object>, <zmq.sugar.frame.Frame object>, <zmq.sugar.frame.Frame object>, <zmq.sugar.frame.Frame object>, <zmq.sugar.frame.Frame object>, <zmq.sugar.frame.Frame object>, <zmq.sugar.frame.Frame object>],)\n        kwargs = {}\n    415         except:\n    416             gen_log.error(\"Uncaught exception, closing connection.\",\n    417                           exc_info=True)\n    418             # Close the socket on an uncaught exception from a user callback\n\n...........................................................................\nC:\\Users\\user\\Anaconda3\\Lib\\site-packages\\tornado\\stack_context.py in null_wrapper(*args=([<zmq.sugar.frame.Frame object>, <zmq.sugar.frame.Frame object>, <zmq.sugar.frame.Frame object>, <zmq.sugar.frame.Frame object>, <zmq.sugar.frame.Frame object>, <zmq.sugar.frame.Frame object>, <zmq.sugar.frame.Frame object>],), **kwargs={})\n    272         # Fast path when there are no active contexts.\n    273         def null_wrapper(*args, **kwargs):\n    274             try:\n    275                 current_state = _state.contexts\n    276                 _state.contexts = cap_contexts[0]\n--> 277                 return fn(*args, **kwargs)\n        args = ([<zmq.sugar.frame.Frame object>, <zmq.sugar.frame.Frame object>, <zmq.sugar.frame.Frame object>, <zmq.sugar.frame.Frame object>, <zmq.sugar.frame.Frame object>, <zmq.sugar.frame.Frame object>, <zmq.sugar.frame.Frame object>],)\n        kwargs = {}\n    278             finally:\n    279                 _state.contexts = current_state\n    280         null_wrapper._wrapped = True\n    281         return null_wrapper\n\n...........................................................................\nC:\\Users\\user\\Anaconda3\\Lib\\site-packages\\ipykernel\\kernelbase.py in dispatcher(msg=[<zmq.sugar.frame.Frame object>, <zmq.sugar.frame.Frame object>, <zmq.sugar.frame.Frame object>, <zmq.sugar.frame.Frame object>, <zmq.sugar.frame.Frame object>, <zmq.sugar.frame.Frame object>, <zmq.sugar.frame.Frame object>])\n    278         if self.control_stream:\n    279             self.control_stream.on_recv(self.dispatch_control, copy=False)\n    280 \n    281         def make_dispatcher(stream):\n    282             def dispatcher(msg):\n--> 283                 return self.dispatch_shell(stream, msg)\n        msg = [<zmq.sugar.frame.Frame object>, <zmq.sugar.frame.Frame object>, <zmq.sugar.frame.Frame object>, <zmq.sugar.frame.Frame object>, <zmq.sugar.frame.Frame object>, <zmq.sugar.frame.Frame object>, <zmq.sugar.frame.Frame object>]\n    284             return dispatcher\n    285 \n    286         for s in self.shell_streams:\n    287             s.on_recv(make_dispatcher(s), copy=False)\n\n...........................................................................\nC:\\Users\\user\\Anaconda3\\Lib\\site-packages\\ipykernel\\kernelbase.py in dispatch_shell(self=<ipykernel.ipkernel.IPythonKernel object>, stream=<zmq.eventloop.zmqstream.ZMQStream object>, msg={'buffers': [], 'content': {'allow_stdin': True, 'code': \"rf = RandomForestClassifier()\\nparam = {'n_estoma...t_values('mean_test_score', ascending=False)[0:5]\", 'silent': False, 'stop_on_error': True, 'store_history': True, 'user_expressions': {}}, 'header': {'date': datetime.datetime(2018, 11, 10, 17, 51, 56, 958222, tzinfo=tzutc()), 'msg_id': '1DB0207D61A1491C8A2CE593CECC0946', 'msg_type': 'execute_request', 'session': '211EE977B1D44F418A057ACCD16CB5CD', 'username': 'username', 'version': '5.0'}, 'metadata': {}, 'msg_id': '1DB0207D61A1491C8A2CE593CECC0946', 'msg_type': 'execute_request', 'parent_header': {}})\n    230             self.log.warn(\"Unknown message type: %r\", msg_type)\n    231         else:\n    232             self.log.debug(\"%s: %s\", msg_type, msg)\n    233             self.pre_handler_hook()\n    234             try:\n--> 235                 handler(stream, idents, msg)\n        handler = <bound method Kernel.execute_request of <ipykernel.ipkernel.IPythonKernel object>>\n        stream = <zmq.eventloop.zmqstream.ZMQStream object>\n        idents = [b'211EE977B1D44F418A057ACCD16CB5CD']\n        msg = {'buffers': [], 'content': {'allow_stdin': True, 'code': \"rf = RandomForestClassifier()\\nparam = {'n_estoma...t_values('mean_test_score', ascending=False)[0:5]\", 'silent': False, 'stop_on_error': True, 'store_history': True, 'user_expressions': {}}, 'header': {'date': datetime.datetime(2018, 11, 10, 17, 51, 56, 958222, tzinfo=tzutc()), 'msg_id': '1DB0207D61A1491C8A2CE593CECC0946', 'msg_type': 'execute_request', 'session': '211EE977B1D44F418A057ACCD16CB5CD', 'username': 'username', 'version': '5.0'}, 'metadata': {}, 'msg_id': '1DB0207D61A1491C8A2CE593CECC0946', 'msg_type': 'execute_request', 'parent_header': {}}\n    236             except Exception:\n    237                 self.log.error(\"Exception in message handler:\", exc_info=True)\n    238             finally:\n    239                 self.post_handler_hook()\n\n...........................................................................\nC:\\Users\\user\\Anaconda3\\Lib\\site-packages\\ipykernel\\kernelbase.py in execute_request(self=<ipykernel.ipkernel.IPythonKernel object>, stream=<zmq.eventloop.zmqstream.ZMQStream object>, ident=[b'211EE977B1D44F418A057ACCD16CB5CD'], parent={'buffers': [], 'content': {'allow_stdin': True, 'code': \"rf = RandomForestClassifier()\\nparam = {'n_estoma...t_values('mean_test_score', ascending=False)[0:5]\", 'silent': False, 'stop_on_error': True, 'store_history': True, 'user_expressions': {}}, 'header': {'date': datetime.datetime(2018, 11, 10, 17, 51, 56, 958222, tzinfo=tzutc()), 'msg_id': '1DB0207D61A1491C8A2CE593CECC0946', 'msg_type': 'execute_request', 'session': '211EE977B1D44F418A057ACCD16CB5CD', 'username': 'username', 'version': '5.0'}, 'metadata': {}, 'msg_id': '1DB0207D61A1491C8A2CE593CECC0946', 'msg_type': 'execute_request', 'parent_header': {}})\n    394         if not silent:\n    395             self.execution_count += 1\n    396             self._publish_execute_input(code, parent, self.execution_count)\n    397 \n    398         reply_content = self.do_execute(code, silent, store_history,\n--> 399                                         user_expressions, allow_stdin)\n        user_expressions = {}\n        allow_stdin = True\n    400 \n    401         # Flush output before sending the reply.\n    402         sys.stdout.flush()\n    403         sys.stderr.flush()\n\n...........................................................................\nC:\\Users\\user\\Anaconda3\\Lib\\site-packages\\ipykernel\\ipkernel.py in do_execute(self=<ipykernel.ipkernel.IPythonKernel object>, code=\"rf = RandomForestClassifier()\\nparam = {'n_estoma...t_values('mean_test_score', ascending=False)[0:5]\", silent=False, store_history=True, user_expressions={}, allow_stdin=True)\n    191 \n    192         self._forward_input(allow_stdin)\n    193 \n    194         reply_content = {}\n    195         try:\n--> 196             res = shell.run_cell(code, store_history=store_history, silent=silent)\n        res = undefined\n        shell.run_cell = <bound method ZMQInteractiveShell.run_cell of <ipykernel.zmqshell.ZMQInteractiveShell object>>\n        code = \"rf = RandomForestClassifier()\\nparam = {'n_estoma...t_values('mean_test_score', ascending=False)[0:5]\"\n        store_history = True\n        silent = False\n    197         finally:\n    198             self._restore_input()\n    199 \n    200         if res.error_before_exec is not None:\n\n...........................................................................\nC:\\Users\\user\\Anaconda3\\Lib\\site-packages\\ipykernel\\zmqshell.py in run_cell(self=<ipykernel.zmqshell.ZMQInteractiveShell object>, *args=(\"rf = RandomForestClassifier()\\nparam = {'n_estoma...t_values('mean_test_score', ascending=False)[0:5]\",), **kwargs={'silent': False, 'store_history': True})\n    528             )\n    529         self.payload_manager.write_payload(payload)\n    530 \n    531     def run_cell(self, *args, **kwargs):\n    532         self._last_traceback = None\n--> 533         return super(ZMQInteractiveShell, self).run_cell(*args, **kwargs)\n        self.run_cell = <bound method ZMQInteractiveShell.run_cell of <ipykernel.zmqshell.ZMQInteractiveShell object>>\n        args = (\"rf = RandomForestClassifier()\\nparam = {'n_estoma...t_values('mean_test_score', ascending=False)[0:5]\",)\n        kwargs = {'silent': False, 'store_history': True}\n    534 \n    535     def _showtraceback(self, etype, evalue, stb):\n    536         # try to preserve ordering of tracebacks and print statements\n    537         sys.stdout.flush()\n\n...........................................................................\nC:\\Users\\user\\Anaconda3\\Lib\\site-packages\\IPython\\core\\interactiveshell.py in run_cell(self=<ipykernel.zmqshell.ZMQInteractiveShell object>, raw_cell=\"rf = RandomForestClassifier()\\nparam = {'n_estoma...t_values('mean_test_score', ascending=False)[0:5]\", store_history=True, silent=False, shell_futures=True)\n   2693                 self.displayhook.exec_result = result\n   2694 \n   2695                 # Execute the user code\n   2696                 interactivity = \"none\" if silent else self.ast_node_interactivity\n   2697                 has_raised = self.run_ast_nodes(code_ast.body, cell_name,\n-> 2698                    interactivity=interactivity, compiler=compiler, result=result)\n        interactivity = 'last_expr'\n        compiler = <IPython.core.compilerop.CachingCompiler object>\n   2699                 \n   2700                 self.last_execution_succeeded = not has_raised\n   2701 \n   2702                 # Reset this so later displayed values do not modify the\n\n...........................................................................\nC:\\Users\\user\\Anaconda3\\Lib\\site-packages\\IPython\\core\\interactiveshell.py in run_ast_nodes(self=<ipykernel.zmqshell.ZMQInteractiveShell object>, nodelist=[<_ast.Assign object>, <_ast.Assign object>, <_ast.Assign object>, <_ast.Assign object>, <_ast.Expr object>], cell_name='<ipython-input-52-792efda225a8>', interactivity='last', compiler=<IPython.core.compilerop.CachingCompiler object>, result=<ExecutionResult object at 1f1976d5710, executio..._before_exec=None error_in_exec=None result=None>)\n   2797 \n   2798         try:\n   2799             for i, node in enumerate(to_run_exec):\n   2800                 mod = ast.Module([node])\n   2801                 code = compiler(mod, cell_name, \"exec\")\n-> 2802                 if self.run_code(code, result):\n        self.run_code = <bound method InteractiveShell.run_code of <ipykernel.zmqshell.ZMQInteractiveShell object>>\n        code = <code object <module> at 0x000001F197E95DB0, file \"<ipython-input-52-792efda225a8>\", line 4>\n        result = <ExecutionResult object at 1f1976d5710, executio..._before_exec=None error_in_exec=None result=None>\n   2803                     return True\n   2804 \n   2805             for i, node in enumerate(to_run_interactive):\n   2806                 mod = ast.Interactive([node])\n\n...........................................................................\nC:\\Users\\user\\Anaconda3\\Lib\\site-packages\\IPython\\core\\interactiveshell.py in run_code(self=<ipykernel.zmqshell.ZMQInteractiveShell object>, code_obj=<code object <module> at 0x000001F197E95DB0, file \"<ipython-input-52-792efda225a8>\", line 4>, result=<ExecutionResult object at 1f1976d5710, executio..._before_exec=None error_in_exec=None result=None>)\n   2857         outflag = True  # happens in more places, so it's easier as default\n   2858         try:\n   2859             try:\n   2860                 self.hooks.pre_run_code_hook()\n   2861                 #rprint('Running code', repr(code_obj)) # dbg\n-> 2862                 exec(code_obj, self.user_global_ns, self.user_ns)\n        code_obj = <code object <module> at 0x000001F197E95DB0, file \"<ipython-input-52-792efda225a8>\", line 4>\n        self.user_global_ns = {'GridSearchCV': <class 'sklearn.model_selection._search.GridSearchCV'>, 'In': ['', 'from sklearn.ensemble import RandomForestClassif...restClassifier))\\nprint (RandomForestClassifier())', 'import string \\nimport pandas as pd\\nimport nltk', \"import string \\nimport pandas as pd\\nimport nltk\\n\\n...olumns = ['label', 'body_text']\\ndataset.sample(5)\", \"import string \\nimport pandas as pd\\nimport nltk\\ni...olumns = ['label', 'body_text']\\ndataset.sample(5)\", \"import string \\nimport pandas as pd\\nimport nltk\\nimport os\\n\\nnltk.tokenize('Hello Mike!')\", \"import string \\nimport pandas as pd\\nimport nltk\\ni... os\\n\\nx = nltk.tokenize()\\nx.tokenize('Hello Mike')\", \"import string \\nimport pandas as pd\\nimport nltk\\ni... nltk.tokenize.word_tokenize()\\nx('Hello Micheal')\", \"import string \\nimport pandas as pd\\nfrom nltk.tok...e\\nimport os\\n\\nx = 'Hello Micheal'\\nword_tokenize(x)\", \"import string \\nimport pandas as pd\\nfrom nltk.tok...\\nimport os\\n\\nx = 'Hello Micheal!'\\nword_tokenize(x)\", \"import string \\nimport pandas as pd\\nfrom nltk.tok...import os\\n\\nx = 'Hello Micheal!x'\\nword_tokenize(x)\", \"import string \\nimport pandas as pd\\nfrom nltk.tok...mport os\\n\\nx = 'Hello wMicheal!x'\\nword_tokenize(x)\", \"import string \\nimport pandas as pd\\nfrom nltk.tok... os\\n\\nx = 'Hello wMicheal!x'\\nwordpunct_tokenize(x)\", \"import string \\nimport pandas as pd\\nimport nltk\\ni...(5)\\n\\nfor i in 'hello, how are you?':\\n    print(i)\", \"import string \\nimport pandas as pd\\nimport nltk\\ni...t']\\ndataset.sample(5)\\n\\nlist('hello, how are you')\", 'import string \\nimport pandas as pd\\nimport nltk\\ni...unctuation_and_body_len(x)[1])    \\ndataset.head()', 'import string \\nimport pandas as pd\\nimport nltk\\nf...unctuation_and_body_len(x)[1])    \\ndataset.head()', 'import string \\nimport pandas as pd\\nimport nltk\\nf...unctuation_and_body_len(x)[1])    \\ndataset.head()', 'import string \\nimport pandas as pd\\nimport nltk\\nf...rdpunct_tokenize(\"I\\'ve come along way, isn\\'t it\")', \"import string \\nimport pandas as pd\\nimport nltk\\nf...\\nf = re.split('\\\\s', x)\\nprint(d, '\\\\n', e, '\\\\n', f)\", ...], 'KFold': <class 'sklearn.model_selection._split.KFold'>, 'Out': {4:      label                                      ...Don't Think About \"What u Have Got\" Think Abou..., 8: ['Hello', 'Micheal'], 9: ['Hello', 'Micheal', '!'], 10: ['Hello', 'Micheal', '!', 'x'], 11: ['Hello', 'wMicheal', '!', 'x'], 12: ['Hello', 'wMicheal', '!', 'x'], 14: ['h', 'e', 'l', 'l', 'o', ',', ' ', 'h', 'o', 'w', ' ', 'a', 'r', 'e', ' ', 'y', 'o', 'u'], 17:   label                                         ...e, on, sunday, with, will, !!]        28    0.0  , 18: ['I', \"'\", 've', 'come', 'along', 'way', ',', 'isn', \"'\", 't', 'it'], 21:   label                                         ...              I HAVE A DATE ON SUNDAY WITH WILL!!, ...}, 'RandomForestClassifier': <class 'sklearn.ensemble.forest.RandomForestClassifier'>, 'TfidfVectorizer': <class 'sklearn.feature_extraction.text.TfidfVectorizer'>, 'X_test':       body_len  punc%         0    1    2    3  ...0   0.0   0.0   0.0  \n\n[1114 rows x 8277 columns], 'X_train':       body_len  punc%         0    1    2    3  ...0   0.0   0.0   0.0  \n\n[4454 rows x 8277 columns], '_': [(0.052545010052052588, 7433), (0.047912896649722717, 'body_len'), (0.03493022358722473, 2025), (0.028063408956728229, 4842), (0.027243493132409841, 7259), (0.025809232613581715, 3146), (0.017047652776907705, 1791), (0.016071157852615509, 7300), (0.016010736566878337, 7098), (0.015477643355366661, 380)], '_10': ['Hello', 'Micheal', '!', 'x'], ...}\n        self.user_ns = {'GridSearchCV': <class 'sklearn.model_selection._search.GridSearchCV'>, 'In': ['', 'from sklearn.ensemble import RandomForestClassif...restClassifier))\\nprint (RandomForestClassifier())', 'import string \\nimport pandas as pd\\nimport nltk', \"import string \\nimport pandas as pd\\nimport nltk\\n\\n...olumns = ['label', 'body_text']\\ndataset.sample(5)\", \"import string \\nimport pandas as pd\\nimport nltk\\ni...olumns = ['label', 'body_text']\\ndataset.sample(5)\", \"import string \\nimport pandas as pd\\nimport nltk\\nimport os\\n\\nnltk.tokenize('Hello Mike!')\", \"import string \\nimport pandas as pd\\nimport nltk\\ni... os\\n\\nx = nltk.tokenize()\\nx.tokenize('Hello Mike')\", \"import string \\nimport pandas as pd\\nimport nltk\\ni... nltk.tokenize.word_tokenize()\\nx('Hello Micheal')\", \"import string \\nimport pandas as pd\\nfrom nltk.tok...e\\nimport os\\n\\nx = 'Hello Micheal'\\nword_tokenize(x)\", \"import string \\nimport pandas as pd\\nfrom nltk.tok...\\nimport os\\n\\nx = 'Hello Micheal!'\\nword_tokenize(x)\", \"import string \\nimport pandas as pd\\nfrom nltk.tok...import os\\n\\nx = 'Hello Micheal!x'\\nword_tokenize(x)\", \"import string \\nimport pandas as pd\\nfrom nltk.tok...mport os\\n\\nx = 'Hello wMicheal!x'\\nword_tokenize(x)\", \"import string \\nimport pandas as pd\\nfrom nltk.tok... os\\n\\nx = 'Hello wMicheal!x'\\nwordpunct_tokenize(x)\", \"import string \\nimport pandas as pd\\nimport nltk\\ni...(5)\\n\\nfor i in 'hello, how are you?':\\n    print(i)\", \"import string \\nimport pandas as pd\\nimport nltk\\ni...t']\\ndataset.sample(5)\\n\\nlist('hello, how are you')\", 'import string \\nimport pandas as pd\\nimport nltk\\ni...unctuation_and_body_len(x)[1])    \\ndataset.head()', 'import string \\nimport pandas as pd\\nimport nltk\\nf...unctuation_and_body_len(x)[1])    \\ndataset.head()', 'import string \\nimport pandas as pd\\nimport nltk\\nf...unctuation_and_body_len(x)[1])    \\ndataset.head()', 'import string \\nimport pandas as pd\\nimport nltk\\nf...rdpunct_tokenize(\"I\\'ve come along way, isn\\'t it\")', \"import string \\nimport pandas as pd\\nimport nltk\\nf...\\nf = re.split('\\\\s', x)\\nprint(d, '\\\\n', e, '\\\\n', f)\", ...], 'KFold': <class 'sklearn.model_selection._split.KFold'>, 'Out': {4:      label                                      ...Don't Think About \"What u Have Got\" Think Abou..., 8: ['Hello', 'Micheal'], 9: ['Hello', 'Micheal', '!'], 10: ['Hello', 'Micheal', '!', 'x'], 11: ['Hello', 'wMicheal', '!', 'x'], 12: ['Hello', 'wMicheal', '!', 'x'], 14: ['h', 'e', 'l', 'l', 'o', ',', ' ', 'h', 'o', 'w', ' ', 'a', 'r', 'e', ' ', 'y', 'o', 'u'], 17:   label                                         ...e, on, sunday, with, will, !!]        28    0.0  , 18: ['I', \"'\", 've', 'come', 'along', 'way', ',', 'isn', \"'\", 't', 'it'], 21:   label                                         ...              I HAVE A DATE ON SUNDAY WITH WILL!!, ...}, 'RandomForestClassifier': <class 'sklearn.ensemble.forest.RandomForestClassifier'>, 'TfidfVectorizer': <class 'sklearn.feature_extraction.text.TfidfVectorizer'>, 'X_test':       body_len  punc%         0    1    2    3  ...0   0.0   0.0   0.0  \n\n[1114 rows x 8277 columns], 'X_train':       body_len  punc%         0    1    2    3  ...0   0.0   0.0   0.0  \n\n[4454 rows x 8277 columns], '_': [(0.052545010052052588, 7433), (0.047912896649722717, 'body_len'), (0.03493022358722473, 2025), (0.028063408956728229, 4842), (0.027243493132409841, 7259), (0.025809232613581715, 3146), (0.017047652776907705, 1791), (0.016071157852615509, 7300), (0.016010736566878337, 7098), (0.015477643355366661, 380)], '_10': ['Hello', 'Micheal', '!', 'x'], ...}\n   2863             finally:\n   2864                 # Reset our crash handler in place\n   2865                 sys.excepthook = old_excepthook\n   2866         except SystemExit as e:\n\n...........................................................................\nC:\\Users\\user\\Documents\\NLTK\\<ipython-input-52-792efda225a8> in <module>()\n      1 rf = RandomForestClassifier()\n      2 param = {'n_estomators': [10, 50, 300], 'max_depth':[30, 60, 90, None]}\n      3 gs = GridSearchCV(rf, param, cv=5, n_jobs=-1)\n----> 4 gs_fit = gs.fit(x_features, dataset['label'])\n      5 pd.DataFrame(gs_fit.cv_results_).sort_values('mean_test_score', ascending=False)[0:5]\n\n...........................................................................\nC:\\Users\\user\\Anaconda3\\Lib\\site-packages\\sklearn\\model_selection\\_search.py in fit(self=GridSearchCV(cv=5, error_score='raise',\n       e...ain_score='warn',\n       scoring=None, verbose=0), X=      body_len  punc%         0    1    2    3  ...0   0.0   0.0   0.0  \n\n[5568 rows x 8277 columns], y=0        ham\n1       spam\n2        ham\n3        ...     ham\nName: label, Length: 5568, dtype: object, groups=None, **fit_params={})\n    634                                   return_train_score=self.return_train_score,\n    635                                   return_n_test_samples=True,\n    636                                   return_times=True, return_parameters=False,\n    637                                   error_score=self.error_score)\n    638           for parameters, (train, test) in product(candidate_params,\n--> 639                                                    cv.split(X, y, groups)))\n        cv.split = <bound method StratifiedKFold.split of Stratifie...ld(n_splits=5, random_state=None, shuffle=False)>\n        X =       body_len  punc%         0    1    2    3  ...0   0.0   0.0   0.0  \n\n[5568 rows x 8277 columns]\n        y = 0        ham\n1       spam\n2        ham\n3        ...     ham\nName: label, Length: 5568, dtype: object\n        groups = None\n    640 \n    641         # if one choose to see train score, \"out\" will contain train score info\n    642         if self.return_train_score:\n    643             (train_score_dicts, test_score_dicts, test_sample_counts, fit_time,\n\n...........................................................................\nC:\\Users\\user\\Anaconda3\\Lib\\site-packages\\sklearn\\externals\\joblib\\parallel.py in __call__(self=Parallel(n_jobs=-1), iterable=<generator object BaseSearchCV.fit.<locals>.<genexpr>>)\n    784             if pre_dispatch == \"all\" or n_jobs == 1:\n    785                 # The iterable was consumed all at once by the above for loop.\n    786                 # No need to wait for async callbacks to trigger to\n    787                 # consumption.\n    788                 self._iterating = False\n--> 789             self.retrieve()\n        self.retrieve = <bound method Parallel.retrieve of Parallel(n_jobs=-1)>\n    790             # Make sure that we get a last message telling us we are done\n    791             elapsed_time = time.time() - self._start_time\n    792             self._print('Done %3i out of %3i | elapsed: %s finished',\n    793                         (len(self._output), len(self._output),\n\n---------------------------------------------------------------------------\nSub-process traceback:\n---------------------------------------------------------------------------\nValueError                                         Sat Nov 10 17:52:02 2018\nPID: 17460                 Python 3.6.3: C:\\Users\\user\\Anaconda3\\python.exe\n...........................................................................\nC:\\Users\\user\\Anaconda3\\Lib\\site-packages\\sklearn\\externals\\joblib\\parallel.py in __call__(self=<sklearn.externals.joblib.parallel.BatchedCalls object>)\n    126     def __init__(self, iterator_slice):\n    127         self.items = list(iterator_slice)\n    128         self._size = len(self.items)\n    129 \n    130     def __call__(self):\n--> 131         return [func(*args, **kwargs) for func, args, kwargs in self.items]\n        self.items = [(<function _fit_and_score>, (RandomForestClassifier(bootstrap=True, class_wei...te=None, verbose=0,\n            warm_start=False),       body_len  punc%         0    1    2    3  ...0   0.0   0.0   0.0  \n\n[5568 rows x 8277 columns], 0        ham\n1       spam\n2        ham\n3        ...     ham\nName: label, Length: 5568, dtype: object, {'score': <function _passthrough_scorer>}, array([ 979,  998, 1003, ..., 5565, 5566, 5567]), array([   0,    1,    2, ..., 1135, 1136, 1137]), 0, {'max_depth': 30, 'n_estomators': 10}), {'error_score': 'raise', 'fit_params': {}, 'return_n_test_samples': True, 'return_parameters': False, 'return_times': True, 'return_train_score': 'warn'})]\n    132 \n    133     def __len__(self):\n    134         return self._size\n    135 \n\n...........................................................................\nC:\\Users\\user\\Anaconda3\\Lib\\site-packages\\sklearn\\externals\\joblib\\parallel.py in <listcomp>(.0=<list_iterator object>)\n    126     def __init__(self, iterator_slice):\n    127         self.items = list(iterator_slice)\n    128         self._size = len(self.items)\n    129 \n    130     def __call__(self):\n--> 131         return [func(*args, **kwargs) for func, args, kwargs in self.items]\n        func = <function _fit_and_score>\n        args = (RandomForestClassifier(bootstrap=True, class_wei...te=None, verbose=0,\n            warm_start=False),       body_len  punc%         0    1    2    3  ...0   0.0   0.0   0.0  \n\n[5568 rows x 8277 columns], 0        ham\n1       spam\n2        ham\n3        ...     ham\nName: label, Length: 5568, dtype: object, {'score': <function _passthrough_scorer>}, array([ 979,  998, 1003, ..., 5565, 5566, 5567]), array([   0,    1,    2, ..., 1135, 1136, 1137]), 0, {'max_depth': 30, 'n_estomators': 10})\n        kwargs = {'error_score': 'raise', 'fit_params': {}, 'return_n_test_samples': True, 'return_parameters': False, 'return_times': True, 'return_train_score': 'warn'}\n    132 \n    133     def __len__(self):\n    134         return self._size\n    135 \n\n...........................................................................\nC:\\Users\\user\\Anaconda3\\Lib\\site-packages\\sklearn\\model_selection\\_validation.py in _fit_and_score(estimator=RandomForestClassifier(bootstrap=True, class_wei...te=None, verbose=0,\n            warm_start=False), X=      body_len  punc%         0    1    2    3  ...0   0.0   0.0   0.0  \n\n[5568 rows x 8277 columns], y=0        ham\n1       spam\n2        ham\n3        ...     ham\nName: label, Length: 5568, dtype: object, scorer={'score': <function _passthrough_scorer>}, train=array([ 979,  998, 1003, ..., 5565, 5566, 5567]), test=array([   0,    1,    2, ..., 1135, 1136, 1137]), verbose=0, parameters={'max_depth': 30, 'n_estomators': 10}, fit_params={}, return_train_score='warn', return_parameters=False, return_n_test_samples=True, return_times=True, error_score='raise')\n    439                       for k, v in fit_params.items()])\n    440 \n    441     test_scores = {}\n    442     train_scores = {}\n    443     if parameters is not None:\n--> 444         estimator.set_params(**parameters)\n        estimator.set_params = <bound method BaseEstimator.set_params of Random...e=None, verbose=0,\n            warm_start=False)>\n        parameters = {'max_depth': 30, 'n_estomators': 10}\n    445 \n    446     start_time = time.time()\n    447 \n    448     X_train, y_train = _safe_split(estimator, X, y, train)\n\n...........................................................................\nC:\\Users\\user\\Anaconda3\\Lib\\site-packages\\sklearn\\base.py in set_params(self=RandomForestClassifier(bootstrap=True, class_wei...te=None, verbose=0,\n            warm_start=False), **params={'max_depth': 30, 'n_estomators': 10})\n    269             key, delim, sub_key = key.partition('__')\n    270             if key not in valid_params:\n    271                 raise ValueError('Invalid parameter %s for estimator %s. '\n    272                                  'Check the list of available parameters '\n    273                                  'with `estimator.get_params().keys()`.' %\n--> 274                                  (key, self))\n        key = 'n_estomators'\n        self = RandomForestClassifier(bootstrap=True, class_wei...te=None, verbose=0,\n            warm_start=False)\n    275 \n    276             if delim:\n    277                 nested_params[key][sub_key] = value\n    278             else:\n\nValueError: Invalid parameter n_estomators for estimator RandomForestClassifier(bootstrap=True, class_weight=None, criterion='gini',\n            max_depth=30, max_features='auto', max_leaf_nodes=None,\n            min_impurity_decrease=0.0, min_impurity_split=None,\n            min_samples_leaf=1, min_samples_split=2,\n            min_weight_fraction_leaf=0.0, n_estimators=10, n_jobs=1,\n            oob_score=False, random_state=None, verbose=0,\n            warm_start=False). Check the list of available parameters with `estimator.get_params().keys()`.\n___________________________________________________________________________",
     "output_type": "error",
     "traceback": [
      "\u001b[1;31m---------------------------------------------------------------------------\u001b[0m",
      "\u001b[1;31mRemoteTraceback\u001b[0m                           Traceback (most recent call last)",
      "\u001b[1;31mRemoteTraceback\u001b[0m: \n\"\"\"\nTraceback (most recent call last):\n  File \"C:\\Users\\user\\Anaconda3\\Lib\\site-packages\\sklearn\\externals\\joblib\\_parallel_backends.py\", line 350, in __call__\n    return self.func(*args, **kwargs)\n  File \"C:\\Users\\user\\Anaconda3\\Lib\\site-packages\\sklearn\\externals\\joblib\\parallel.py\", line 131, in __call__\n    return [func(*args, **kwargs) for func, args, kwargs in self.items]\n  File \"C:\\Users\\user\\Anaconda3\\Lib\\site-packages\\sklearn\\externals\\joblib\\parallel.py\", line 131, in <listcomp>\n    return [func(*args, **kwargs) for func, args, kwargs in self.items]\n  File \"C:\\Users\\user\\Anaconda3\\Lib\\site-packages\\sklearn\\model_selection\\_validation.py\", line 444, in _fit_and_score\n    estimator.set_params(**parameters)\n  File \"C:\\Users\\user\\Anaconda3\\Lib\\site-packages\\sklearn\\base.py\", line 274, in set_params\n    (key, self))\nValueError: Invalid parameter n_estomators for estimator RandomForestClassifier(bootstrap=True, class_weight=None, criterion='gini',\n            max_depth=30, max_features='auto', max_leaf_nodes=None,\n            min_impurity_decrease=0.0, min_impurity_split=None,\n            min_samples_leaf=1, min_samples_split=2,\n            min_weight_fraction_leaf=0.0, n_estimators=10, n_jobs=1,\n            oob_score=False, random_state=None, verbose=0,\n            warm_start=False). Check the list of available parameters with `estimator.get_params().keys()`.\n\nDuring handling of the above exception, another exception occurred:\n\nTraceback (most recent call last):\n  File \"C:\\Users\\user\\Anaconda3\\lib\\multiprocessing\\pool.py\", line 119, in worker\n    result = (True, func(*args, **kwds))\n  File \"C:\\Users\\user\\Anaconda3\\Lib\\site-packages\\sklearn\\externals\\joblib\\_parallel_backends.py\", line 359, in __call__\n    raise TransportableException(text, e_type)\nsklearn.externals.joblib.my_exceptions.TransportableException: TransportableException\n___________________________________________________________________________\nValueError                                         Sat Nov 10 17:52:02 2018\nPID: 17460                 Python 3.6.3: C:\\Users\\user\\Anaconda3\\python.exe\n...........................................................................\nC:\\Users\\user\\Anaconda3\\Lib\\site-packages\\sklearn\\externals\\joblib\\parallel.py in __call__(self=<sklearn.externals.joblib.parallel.BatchedCalls object>)\n    126     def __init__(self, iterator_slice):\n    127         self.items = list(iterator_slice)\n    128         self._size = len(self.items)\n    129 \n    130     def __call__(self):\n--> 131         return [func(*args, **kwargs) for func, args, kwargs in self.items]\n        self.items = [(<function _fit_and_score>, (RandomForestClassifier(bootstrap=True, class_wei...te=None, verbose=0,\n            warm_start=False),       body_len  punc%         0    1    2    3  ...0   0.0   0.0   0.0  \n\n[5568 rows x 8277 columns], 0        ham\n1       spam\n2        ham\n3        ...     ham\nName: label, Length: 5568, dtype: object, {'score': <function _passthrough_scorer>}, array([ 979,  998, 1003, ..., 5565, 5566, 5567]), array([   0,    1,    2, ..., 1135, 1136, 1137]), 0, {'max_depth': 30, 'n_estomators': 10}), {'error_score': 'raise', 'fit_params': {}, 'return_n_test_samples': True, 'return_parameters': False, 'return_times': True, 'return_train_score': 'warn'})]\n    132 \n    133     def __len__(self):\n    134         return self._size\n    135 \n\n...........................................................................\nC:\\Users\\user\\Anaconda3\\Lib\\site-packages\\sklearn\\externals\\joblib\\parallel.py in <listcomp>(.0=<list_iterator object>)\n    126     def __init__(self, iterator_slice):\n    127         self.items = list(iterator_slice)\n    128         self._size = len(self.items)\n    129 \n    130     def __call__(self):\n--> 131         return [func(*args, **kwargs) for func, args, kwargs in self.items]\n        func = <function _fit_and_score>\n        args = (RandomForestClassifier(bootstrap=True, class_wei...te=None, verbose=0,\n            warm_start=False),       body_len  punc%         0    1    2    3  ...0   0.0   0.0   0.0  \n\n[5568 rows x 8277 columns], 0        ham\n1       spam\n2        ham\n3        ...     ham\nName: label, Length: 5568, dtype: object, {'score': <function _passthrough_scorer>}, array([ 979,  998, 1003, ..., 5565, 5566, 5567]), array([   0,    1,    2, ..., 1135, 1136, 1137]), 0, {'max_depth': 30, 'n_estomators': 10})\n        kwargs = {'error_score': 'raise', 'fit_params': {}, 'return_n_test_samples': True, 'return_parameters': False, 'return_times': True, 'return_train_score': 'warn'}\n    132 \n    133     def __len__(self):\n    134         return self._size\n    135 \n\n...........................................................................\nC:\\Users\\user\\Anaconda3\\Lib\\site-packages\\sklearn\\model_selection\\_validation.py in _fit_and_score(estimator=RandomForestClassifier(bootstrap=True, class_wei...te=None, verbose=0,\n            warm_start=False), X=      body_len  punc%         0    1    2    3  ...0   0.0   0.0   0.0  \n\n[5568 rows x 8277 columns], y=0        ham\n1       spam\n2        ham\n3        ...     ham\nName: label, Length: 5568, dtype: object, scorer={'score': <function _passthrough_scorer>}, train=array([ 979,  998, 1003, ..., 5565, 5566, 5567]), test=array([   0,    1,    2, ..., 1135, 1136, 1137]), verbose=0, parameters={'max_depth': 30, 'n_estomators': 10}, fit_params={}, return_train_score='warn', return_parameters=False, return_n_test_samples=True, return_times=True, error_score='raise')\n    439                       for k, v in fit_params.items()])\n    440 \n    441     test_scores = {}\n    442     train_scores = {}\n    443     if parameters is not None:\n--> 444         estimator.set_params(**parameters)\n        estimator.set_params = <bound method BaseEstimator.set_params of Random...e=None, verbose=0,\n            warm_start=False)>\n        parameters = {'max_depth': 30, 'n_estomators': 10}\n    445 \n    446     start_time = time.time()\n    447 \n    448     X_train, y_train = _safe_split(estimator, X, y, train)\n\n...........................................................................\nC:\\Users\\user\\Anaconda3\\Lib\\site-packages\\sklearn\\base.py in set_params(self=RandomForestClassifier(bootstrap=True, class_wei...te=None, verbose=0,\n            warm_start=False), **params={'max_depth': 30, 'n_estomators': 10})\n    269             key, delim, sub_key = key.partition('__')\n    270             if key not in valid_params:\n    271                 raise ValueError('Invalid parameter %s for estimator %s. '\n    272                                  'Check the list of available parameters '\n    273                                  'with `estimator.get_params().keys()`.' %\n--> 274                                  (key, self))\n        key = 'n_estomators'\n        self = RandomForestClassifier(bootstrap=True, class_wei...te=None, verbose=0,\n            warm_start=False)\n    275 \n    276             if delim:\n    277                 nested_params[key][sub_key] = value\n    278             else:\n\nValueError: Invalid parameter n_estomators for estimator RandomForestClassifier(bootstrap=True, class_weight=None, criterion='gini',\n            max_depth=30, max_features='auto', max_leaf_nodes=None,\n            min_impurity_decrease=0.0, min_impurity_split=None,\n            min_samples_leaf=1, min_samples_split=2,\n            min_weight_fraction_leaf=0.0, n_estimators=10, n_jobs=1,\n            oob_score=False, random_state=None, verbose=0,\n            warm_start=False). Check the list of available parameters with `estimator.get_params().keys()`.\n___________________________________________________________________________\n\"\"\"",
      "\nThe above exception was the direct cause of the following exception:\n",
      "\u001b[1;31mTransportableException\u001b[0m                    Traceback (most recent call last)",
      "\u001b[1;32m~\\Anaconda3\\Lib\\site-packages\\sklearn\\externals\\joblib\\parallel.py\u001b[0m in \u001b[0;36mretrieve\u001b[1;34m(self)\u001b[0m\n\u001b[0;32m    698\u001b[0m                 \u001b[1;32mif\u001b[0m \u001b[0mgetattr\u001b[0m\u001b[1;33m(\u001b[0m\u001b[0mself\u001b[0m\u001b[1;33m.\u001b[0m\u001b[0m_backend\u001b[0m\u001b[1;33m,\u001b[0m \u001b[1;34m'supports_timeout'\u001b[0m\u001b[1;33m,\u001b[0m \u001b[1;32mFalse\u001b[0m\u001b[1;33m)\u001b[0m\u001b[1;33m:\u001b[0m\u001b[1;33m\u001b[0m\u001b[0m\n\u001b[1;32m--> 699\u001b[1;33m                     \u001b[0mself\u001b[0m\u001b[1;33m.\u001b[0m\u001b[0m_output\u001b[0m\u001b[1;33m.\u001b[0m\u001b[0mextend\u001b[0m\u001b[1;33m(\u001b[0m\u001b[0mjob\u001b[0m\u001b[1;33m.\u001b[0m\u001b[0mget\u001b[0m\u001b[1;33m(\u001b[0m\u001b[0mtimeout\u001b[0m\u001b[1;33m=\u001b[0m\u001b[0mself\u001b[0m\u001b[1;33m.\u001b[0m\u001b[0mtimeout\u001b[0m\u001b[1;33m)\u001b[0m\u001b[1;33m)\u001b[0m\u001b[1;33m\u001b[0m\u001b[0m\n\u001b[0m\u001b[0;32m    700\u001b[0m                 \u001b[1;32melse\u001b[0m\u001b[1;33m:\u001b[0m\u001b[1;33m\u001b[0m\u001b[0m\n",
      "\u001b[1;32m~\\Anaconda3\\lib\\multiprocessing\\pool.py\u001b[0m in \u001b[0;36mget\u001b[1;34m(self, timeout)\u001b[0m\n\u001b[0;32m    643\u001b[0m         \u001b[1;32melse\u001b[0m\u001b[1;33m:\u001b[0m\u001b[1;33m\u001b[0m\u001b[0m\n\u001b[1;32m--> 644\u001b[1;33m             \u001b[1;32mraise\u001b[0m \u001b[0mself\u001b[0m\u001b[1;33m.\u001b[0m\u001b[0m_value\u001b[0m\u001b[1;33m\u001b[0m\u001b[0m\n\u001b[0m\u001b[0;32m    645\u001b[0m \u001b[1;33m\u001b[0m\u001b[0m\n",
      "\u001b[1;31mTransportableException\u001b[0m: TransportableException\n___________________________________________________________________________\nValueError                                         Sat Nov 10 17:52:02 2018\nPID: 17460                 Python 3.6.3: C:\\Users\\user\\Anaconda3\\python.exe\n...........................................................................\nC:\\Users\\user\\Anaconda3\\Lib\\site-packages\\sklearn\\externals\\joblib\\parallel.py in __call__(self=<sklearn.externals.joblib.parallel.BatchedCalls object>)\n    126     def __init__(self, iterator_slice):\n    127         self.items = list(iterator_slice)\n    128         self._size = len(self.items)\n    129 \n    130     def __call__(self):\n--> 131         return [func(*args, **kwargs) for func, args, kwargs in self.items]\n        self.items = [(<function _fit_and_score>, (RandomForestClassifier(bootstrap=True, class_wei...te=None, verbose=0,\n            warm_start=False),       body_len  punc%         0    1    2    3  ...0   0.0   0.0   0.0  \n\n[5568 rows x 8277 columns], 0        ham\n1       spam\n2        ham\n3        ...     ham\nName: label, Length: 5568, dtype: object, {'score': <function _passthrough_scorer>}, array([ 979,  998, 1003, ..., 5565, 5566, 5567]), array([   0,    1,    2, ..., 1135, 1136, 1137]), 0, {'max_depth': 30, 'n_estomators': 10}), {'error_score': 'raise', 'fit_params': {}, 'return_n_test_samples': True, 'return_parameters': False, 'return_times': True, 'return_train_score': 'warn'})]\n    132 \n    133     def __len__(self):\n    134         return self._size\n    135 \n\n...........................................................................\nC:\\Users\\user\\Anaconda3\\Lib\\site-packages\\sklearn\\externals\\joblib\\parallel.py in <listcomp>(.0=<list_iterator object>)\n    126     def __init__(self, iterator_slice):\n    127         self.items = list(iterator_slice)\n    128         self._size = len(self.items)\n    129 \n    130     def __call__(self):\n--> 131         return [func(*args, **kwargs) for func, args, kwargs in self.items]\n        func = <function _fit_and_score>\n        args = (RandomForestClassifier(bootstrap=True, class_wei...te=None, verbose=0,\n            warm_start=False),       body_len  punc%         0    1    2    3  ...0   0.0   0.0   0.0  \n\n[5568 rows x 8277 columns], 0        ham\n1       spam\n2        ham\n3        ...     ham\nName: label, Length: 5568, dtype: object, {'score': <function _passthrough_scorer>}, array([ 979,  998, 1003, ..., 5565, 5566, 5567]), array([   0,    1,    2, ..., 1135, 1136, 1137]), 0, {'max_depth': 30, 'n_estomators': 10})\n        kwargs = {'error_score': 'raise', 'fit_params': {}, 'return_n_test_samples': True, 'return_parameters': False, 'return_times': True, 'return_train_score': 'warn'}\n    132 \n    133     def __len__(self):\n    134         return self._size\n    135 \n\n...........................................................................\nC:\\Users\\user\\Anaconda3\\Lib\\site-packages\\sklearn\\model_selection\\_validation.py in _fit_and_score(estimator=RandomForestClassifier(bootstrap=True, class_wei...te=None, verbose=0,\n            warm_start=False), X=      body_len  punc%         0    1    2    3  ...0   0.0   0.0   0.0  \n\n[5568 rows x 8277 columns], y=0        ham\n1       spam\n2        ham\n3        ...     ham\nName: label, Length: 5568, dtype: object, scorer={'score': <function _passthrough_scorer>}, train=array([ 979,  998, 1003, ..., 5565, 5566, 5567]), test=array([   0,    1,    2, ..., 1135, 1136, 1137]), verbose=0, parameters={'max_depth': 30, 'n_estomators': 10}, fit_params={}, return_train_score='warn', return_parameters=False, return_n_test_samples=True, return_times=True, error_score='raise')\n    439                       for k, v in fit_params.items()])\n    440 \n    441     test_scores = {}\n    442     train_scores = {}\n    443     if parameters is not None:\n--> 444         estimator.set_params(**parameters)\n        estimator.set_params = <bound method BaseEstimator.set_params of Random...e=None, verbose=0,\n            warm_start=False)>\n        parameters = {'max_depth': 30, 'n_estomators': 10}\n    445 \n    446     start_time = time.time()\n    447 \n    448     X_train, y_train = _safe_split(estimator, X, y, train)\n\n...........................................................................\nC:\\Users\\user\\Anaconda3\\Lib\\site-packages\\sklearn\\base.py in set_params(self=RandomForestClassifier(bootstrap=True, class_wei...te=None, verbose=0,\n            warm_start=False), **params={'max_depth': 30, 'n_estomators': 10})\n    269             key, delim, sub_key = key.partition('__')\n    270             if key not in valid_params:\n    271                 raise ValueError('Invalid parameter %s for estimator %s. '\n    272                                  'Check the list of available parameters '\n    273                                  'with `estimator.get_params().keys()`.' %\n--> 274                                  (key, self))\n        key = 'n_estomators'\n        self = RandomForestClassifier(bootstrap=True, class_wei...te=None, verbose=0,\n            warm_start=False)\n    275 \n    276             if delim:\n    277                 nested_params[key][sub_key] = value\n    278             else:\n\nValueError: Invalid parameter n_estomators for estimator RandomForestClassifier(bootstrap=True, class_weight=None, criterion='gini',\n            max_depth=30, max_features='auto', max_leaf_nodes=None,\n            min_impurity_decrease=0.0, min_impurity_split=None,\n            min_samples_leaf=1, min_samples_split=2,\n            min_weight_fraction_leaf=0.0, n_estimators=10, n_jobs=1,\n            oob_score=False, random_state=None, verbose=0,\n            warm_start=False). Check the list of available parameters with `estimator.get_params().keys()`.\n___________________________________________________________________________",
      "\nDuring handling of the above exception, another exception occurred:\n",
      "\u001b[1;31mJoblibValueError\u001b[0m                          Traceback (most recent call last)",
      "\u001b[1;32m<ipython-input-52-792efda225a8>\u001b[0m in \u001b[0;36m<module>\u001b[1;34m()\u001b[0m\n\u001b[0;32m      2\u001b[0m \u001b[0mparam\u001b[0m \u001b[1;33m=\u001b[0m \u001b[1;33m{\u001b[0m\u001b[1;34m'n_estomators'\u001b[0m\u001b[1;33m:\u001b[0m \u001b[1;33m[\u001b[0m\u001b[1;36m10\u001b[0m\u001b[1;33m,\u001b[0m \u001b[1;36m50\u001b[0m\u001b[1;33m,\u001b[0m \u001b[1;36m300\u001b[0m\u001b[1;33m]\u001b[0m\u001b[1;33m,\u001b[0m \u001b[1;34m'max_depth'\u001b[0m\u001b[1;33m:\u001b[0m\u001b[1;33m[\u001b[0m\u001b[1;36m30\u001b[0m\u001b[1;33m,\u001b[0m \u001b[1;36m60\u001b[0m\u001b[1;33m,\u001b[0m \u001b[1;36m90\u001b[0m\u001b[1;33m,\u001b[0m \u001b[1;32mNone\u001b[0m\u001b[1;33m]\u001b[0m\u001b[1;33m}\u001b[0m\u001b[1;33m\u001b[0m\u001b[0m\n\u001b[0;32m      3\u001b[0m \u001b[0mgs\u001b[0m \u001b[1;33m=\u001b[0m \u001b[0mGridSearchCV\u001b[0m\u001b[1;33m(\u001b[0m\u001b[0mrf\u001b[0m\u001b[1;33m,\u001b[0m \u001b[0mparam\u001b[0m\u001b[1;33m,\u001b[0m \u001b[0mcv\u001b[0m\u001b[1;33m=\u001b[0m\u001b[1;36m5\u001b[0m\u001b[1;33m,\u001b[0m \u001b[0mn_jobs\u001b[0m\u001b[1;33m=\u001b[0m\u001b[1;33m-\u001b[0m\u001b[1;36m1\u001b[0m\u001b[1;33m)\u001b[0m\u001b[1;33m\u001b[0m\u001b[0m\n\u001b[1;32m----> 4\u001b[1;33m \u001b[0mgs_fit\u001b[0m \u001b[1;33m=\u001b[0m \u001b[0mgs\u001b[0m\u001b[1;33m.\u001b[0m\u001b[0mfit\u001b[0m\u001b[1;33m(\u001b[0m\u001b[0mx_features\u001b[0m\u001b[1;33m,\u001b[0m \u001b[0mdataset\u001b[0m\u001b[1;33m[\u001b[0m\u001b[1;34m'label'\u001b[0m\u001b[1;33m]\u001b[0m\u001b[1;33m)\u001b[0m\u001b[1;33m\u001b[0m\u001b[0m\n\u001b[0m\u001b[0;32m      5\u001b[0m \u001b[0mpd\u001b[0m\u001b[1;33m.\u001b[0m\u001b[0mDataFrame\u001b[0m\u001b[1;33m(\u001b[0m\u001b[0mgs_fit\u001b[0m\u001b[1;33m.\u001b[0m\u001b[0mcv_results_\u001b[0m\u001b[1;33m)\u001b[0m\u001b[1;33m.\u001b[0m\u001b[0msort_values\u001b[0m\u001b[1;33m(\u001b[0m\u001b[1;34m'mean_test_score'\u001b[0m\u001b[1;33m,\u001b[0m \u001b[0mascending\u001b[0m\u001b[1;33m=\u001b[0m\u001b[1;32mFalse\u001b[0m\u001b[1;33m)\u001b[0m\u001b[1;33m[\u001b[0m\u001b[1;36m0\u001b[0m\u001b[1;33m:\u001b[0m\u001b[1;36m5\u001b[0m\u001b[1;33m]\u001b[0m\u001b[1;33m\u001b[0m\u001b[0m\n",
      "\u001b[1;32m~\\Anaconda3\\Lib\\site-packages\\sklearn\\model_selection\\_search.py\u001b[0m in \u001b[0;36mfit\u001b[1;34m(self, X, y, groups, **fit_params)\u001b[0m\n\u001b[0;32m    637\u001b[0m                                   error_score=self.error_score)\n\u001b[0;32m    638\u001b[0m           for parameters, (train, test) in product(candidate_params,\n\u001b[1;32m--> 639\u001b[1;33m                                                    cv.split(X, y, groups)))\n\u001b[0m\u001b[0;32m    640\u001b[0m \u001b[1;33m\u001b[0m\u001b[0m\n\u001b[0;32m    641\u001b[0m         \u001b[1;31m# if one choose to see train score, \"out\" will contain train score info\u001b[0m\u001b[1;33m\u001b[0m\u001b[1;33m\u001b[0m\u001b[0m\n",
      "\u001b[1;32m~\\Anaconda3\\Lib\\site-packages\\sklearn\\externals\\joblib\\parallel.py\u001b[0m in \u001b[0;36m__call__\u001b[1;34m(self, iterable)\u001b[0m\n\u001b[0;32m    787\u001b[0m                 \u001b[1;31m# consumption.\u001b[0m\u001b[1;33m\u001b[0m\u001b[1;33m\u001b[0m\u001b[0m\n\u001b[0;32m    788\u001b[0m                 \u001b[0mself\u001b[0m\u001b[1;33m.\u001b[0m\u001b[0m_iterating\u001b[0m \u001b[1;33m=\u001b[0m \u001b[1;32mFalse\u001b[0m\u001b[1;33m\u001b[0m\u001b[0m\n\u001b[1;32m--> 789\u001b[1;33m             \u001b[0mself\u001b[0m\u001b[1;33m.\u001b[0m\u001b[0mretrieve\u001b[0m\u001b[1;33m(\u001b[0m\u001b[1;33m)\u001b[0m\u001b[1;33m\u001b[0m\u001b[0m\n\u001b[0m\u001b[0;32m    790\u001b[0m             \u001b[1;31m# Make sure that we get a last message telling us we are done\u001b[0m\u001b[1;33m\u001b[0m\u001b[1;33m\u001b[0m\u001b[0m\n\u001b[0;32m    791\u001b[0m             \u001b[0melapsed_time\u001b[0m \u001b[1;33m=\u001b[0m \u001b[0mtime\u001b[0m\u001b[1;33m.\u001b[0m\u001b[0mtime\u001b[0m\u001b[1;33m(\u001b[0m\u001b[1;33m)\u001b[0m \u001b[1;33m-\u001b[0m \u001b[0mself\u001b[0m\u001b[1;33m.\u001b[0m\u001b[0m_start_time\u001b[0m\u001b[1;33m\u001b[0m\u001b[0m\n",
      "\u001b[1;32m~\\Anaconda3\\Lib\\site-packages\\sklearn\\externals\\joblib\\parallel.py\u001b[0m in \u001b[0;36mretrieve\u001b[1;34m(self)\u001b[0m\n\u001b[0;32m    738\u001b[0m                     \u001b[0mexception\u001b[0m \u001b[1;33m=\u001b[0m \u001b[0mexception_type\u001b[0m\u001b[1;33m(\u001b[0m\u001b[0mreport\u001b[0m\u001b[1;33m)\u001b[0m\u001b[1;33m\u001b[0m\u001b[0m\n\u001b[0;32m    739\u001b[0m \u001b[1;33m\u001b[0m\u001b[0m\n\u001b[1;32m--> 740\u001b[1;33m                     \u001b[1;32mraise\u001b[0m \u001b[0mexception\u001b[0m\u001b[1;33m\u001b[0m\u001b[0m\n\u001b[0m\u001b[0;32m    741\u001b[0m \u001b[1;33m\u001b[0m\u001b[0m\n\u001b[0;32m    742\u001b[0m     \u001b[1;32mdef\u001b[0m \u001b[0m__call__\u001b[0m\u001b[1;33m(\u001b[0m\u001b[0mself\u001b[0m\u001b[1;33m,\u001b[0m \u001b[0miterable\u001b[0m\u001b[1;33m)\u001b[0m\u001b[1;33m:\u001b[0m\u001b[1;33m\u001b[0m\u001b[0m\n",
      "\u001b[1;31mJoblibValueError\u001b[0m: JoblibValueError\n___________________________________________________________________________\nMultiprocessing exception:\n...........................................................................\nC:\\Users\\user\\Anaconda3\\lib\\runpy.py in _run_module_as_main(mod_name='ipykernel_launcher', alter_argv=1)\n    188         sys.exit(msg)\n    189     main_globals = sys.modules[\"__main__\"].__dict__\n    190     if alter_argv:\n    191         sys.argv[0] = mod_spec.origin\n    192     return _run_code(code, main_globals, None,\n--> 193                      \"__main__\", mod_spec)\n        mod_spec = ModuleSpec(name='ipykernel_launcher', loader=<_f...nda3\\\\Lib\\\\site-packages\\\\ipykernel_launcher.py')\n    194 \n    195 def run_module(mod_name, init_globals=None,\n    196                run_name=None, alter_sys=False):\n    197     \"\"\"Execute a module's code without importing it\n\n...........................................................................\nC:\\Users\\user\\Anaconda3\\lib\\runpy.py in _run_code(code=<code object <module> at 0x000001F18EEBFAE0, fil...Lib\\site-packages\\ipykernel_launcher.py\", line 5>, run_globals={'__annotations__': {}, '__builtins__': <module 'builtins' (built-in)>, '__cached__': r'C:\\Users\\user\\Anaconda3\\Lib\\site-packages\\__pycache__\\ipykernel_launcher.cpython-36.pyc', '__doc__': 'Entry point for launching an IPython kernel.\\n\\nTh...orts until\\nafter removing the cwd from sys.path.\\n', '__file__': r'C:\\Users\\user\\Anaconda3\\Lib\\site-packages\\ipykernel_launcher.py', '__loader__': <_frozen_importlib_external.SourceFileLoader object>, '__name__': '__main__', '__package__': '', '__spec__': ModuleSpec(name='ipykernel_launcher', loader=<_f...nda3\\\\Lib\\\\site-packages\\\\ipykernel_launcher.py'), 'app': <module 'ipykernel.kernelapp' from 'C:\\\\Users\\\\u...a3\\\\Lib\\\\site-packages\\\\ipykernel\\\\kernelapp.py'>, ...}, init_globals=None, mod_name='__main__', mod_spec=ModuleSpec(name='ipykernel_launcher', loader=<_f...nda3\\\\Lib\\\\site-packages\\\\ipykernel_launcher.py'), pkg_name='', script_name=None)\n     80                        __cached__ = cached,\n     81                        __doc__ = None,\n     82                        __loader__ = loader,\n     83                        __package__ = pkg_name,\n     84                        __spec__ = mod_spec)\n---> 85     exec(code, run_globals)\n        code = <code object <module> at 0x000001F18EEBFAE0, fil...Lib\\site-packages\\ipykernel_launcher.py\", line 5>\n        run_globals = {'__annotations__': {}, '__builtins__': <module 'builtins' (built-in)>, '__cached__': r'C:\\Users\\user\\Anaconda3\\Lib\\site-packages\\__pycache__\\ipykernel_launcher.cpython-36.pyc', '__doc__': 'Entry point for launching an IPython kernel.\\n\\nTh...orts until\\nafter removing the cwd from sys.path.\\n', '__file__': r'C:\\Users\\user\\Anaconda3\\Lib\\site-packages\\ipykernel_launcher.py', '__loader__': <_frozen_importlib_external.SourceFileLoader object>, '__name__': '__main__', '__package__': '', '__spec__': ModuleSpec(name='ipykernel_launcher', loader=<_f...nda3\\\\Lib\\\\site-packages\\\\ipykernel_launcher.py'), 'app': <module 'ipykernel.kernelapp' from 'C:\\\\Users\\\\u...a3\\\\Lib\\\\site-packages\\\\ipykernel\\\\kernelapp.py'>, ...}\n     86     return run_globals\n     87 \n     88 def _run_module_code(code, init_globals=None,\n     89                     mod_name=None, mod_spec=None,\n\n...........................................................................\nC:\\Users\\user\\Anaconda3\\Lib\\site-packages\\ipykernel_launcher.py in <module>()\n     11     # This is added back by InteractiveShellApp.init_path()\n     12     if sys.path[0] == '':\n     13         del sys.path[0]\n     14 \n     15     from ipykernel import kernelapp as app\n---> 16     app.launch_new_instance()\n\n...........................................................................\nC:\\Users\\user\\Anaconda3\\Lib\\site-packages\\traitlets\\config\\application.py in launch_instance(cls=<class 'ipykernel.kernelapp.IPKernelApp'>, argv=None, **kwargs={})\n    653 \n    654         If a global instance already exists, this reinitializes and starts it\n    655         \"\"\"\n    656         app = cls.instance(**kwargs)\n    657         app.initialize(argv)\n--> 658         app.start()\n        app.start = <bound method IPKernelApp.start of <ipykernel.kernelapp.IPKernelApp object>>\n    659 \n    660 #-----------------------------------------------------------------------------\n    661 # utility functions, for convenience\n    662 #-----------------------------------------------------------------------------\n\n...........................................................................\nC:\\Users\\user\\Anaconda3\\Lib\\site-packages\\ipykernel\\kernelapp.py in start(self=<ipykernel.kernelapp.IPKernelApp object>)\n    472             return self.subapp.start()\n    473         if self.poller is not None:\n    474             self.poller.start()\n    475         self.kernel.start()\n    476         try:\n--> 477             ioloop.IOLoop.instance().start()\n    478         except KeyboardInterrupt:\n    479             pass\n    480 \n    481 launch_new_instance = IPKernelApp.launch_instance\n\n...........................................................................\nC:\\Users\\user\\Anaconda3\\Lib\\site-packages\\zmq\\eventloop\\ioloop.py in start(self=<zmq.eventloop.ioloop.ZMQIOLoop object>)\n    172             )\n    173         return loop\n    174     \n    175     def start(self):\n    176         try:\n--> 177             super(ZMQIOLoop, self).start()\n        self.start = <bound method ZMQIOLoop.start of <zmq.eventloop.ioloop.ZMQIOLoop object>>\n    178         except ZMQError as e:\n    179             if e.errno == ETERM:\n    180                 # quietly return on ETERM\n    181                 pass\n\n...........................................................................\nC:\\Users\\user\\Anaconda3\\Lib\\site-packages\\tornado\\ioloop.py in start(self=<zmq.eventloop.ioloop.ZMQIOLoop object>)\n    883                 self._events.update(event_pairs)\n    884                 while self._events:\n    885                     fd, events = self._events.popitem()\n    886                     try:\n    887                         fd_obj, handler_func = self._handlers[fd]\n--> 888                         handler_func(fd_obj, events)\n        handler_func = <function wrap.<locals>.null_wrapper>\n        fd_obj = <zmq.sugar.socket.Socket object>\n        events = 1\n    889                     except (OSError, IOError) as e:\n    890                         if errno_from_exception(e) == errno.EPIPE:\n    891                             # Happens when the client closes the connection\n    892                             pass\n\n...........................................................................\nC:\\Users\\user\\Anaconda3\\Lib\\site-packages\\tornado\\stack_context.py in null_wrapper(*args=(<zmq.sugar.socket.Socket object>, 1), **kwargs={})\n    272         # Fast path when there are no active contexts.\n    273         def null_wrapper(*args, **kwargs):\n    274             try:\n    275                 current_state = _state.contexts\n    276                 _state.contexts = cap_contexts[0]\n--> 277                 return fn(*args, **kwargs)\n        args = (<zmq.sugar.socket.Socket object>, 1)\n        kwargs = {}\n    278             finally:\n    279                 _state.contexts = current_state\n    280         null_wrapper._wrapped = True\n    281         return null_wrapper\n\n...........................................................................\nC:\\Users\\user\\Anaconda3\\Lib\\site-packages\\zmq\\eventloop\\zmqstream.py in _handle_events(self=<zmq.eventloop.zmqstream.ZMQStream object>, fd=<zmq.sugar.socket.Socket object>, events=1)\n    435             # dispatch events:\n    436             if events & IOLoop.ERROR:\n    437                 gen_log.error(\"got POLLERR event on ZMQStream, which doesn't make sense\")\n    438                 return\n    439             if events & IOLoop.READ:\n--> 440                 self._handle_recv()\n        self._handle_recv = <bound method ZMQStream._handle_recv of <zmq.eventloop.zmqstream.ZMQStream object>>\n    441                 if not self.socket:\n    442                     return\n    443             if events & IOLoop.WRITE:\n    444                 self._handle_send()\n\n...........................................................................\nC:\\Users\\user\\Anaconda3\\Lib\\site-packages\\zmq\\eventloop\\zmqstream.py in _handle_recv(self=<zmq.eventloop.zmqstream.ZMQStream object>)\n    467                 gen_log.error(\"RECV Error: %s\"%zmq.strerror(e.errno))\n    468         else:\n    469             if self._recv_callback:\n    470                 callback = self._recv_callback\n    471                 # self._recv_callback = None\n--> 472                 self._run_callback(callback, msg)\n        self._run_callback = <bound method ZMQStream._run_callback of <zmq.eventloop.zmqstream.ZMQStream object>>\n        callback = <function wrap.<locals>.null_wrapper>\n        msg = [<zmq.sugar.frame.Frame object>, <zmq.sugar.frame.Frame object>, <zmq.sugar.frame.Frame object>, <zmq.sugar.frame.Frame object>, <zmq.sugar.frame.Frame object>, <zmq.sugar.frame.Frame object>, <zmq.sugar.frame.Frame object>]\n    473                 \n    474         # self.update_state()\n    475         \n    476 \n\n...........................................................................\nC:\\Users\\user\\Anaconda3\\Lib\\site-packages\\zmq\\eventloop\\zmqstream.py in _run_callback(self=<zmq.eventloop.zmqstream.ZMQStream object>, callback=<function wrap.<locals>.null_wrapper>, *args=([<zmq.sugar.frame.Frame object>, <zmq.sugar.frame.Frame object>, <zmq.sugar.frame.Frame object>, <zmq.sugar.frame.Frame object>, <zmq.sugar.frame.Frame object>, <zmq.sugar.frame.Frame object>, <zmq.sugar.frame.Frame object>],), **kwargs={})\n    409         close our socket.\"\"\"\n    410         try:\n    411             # Use a NullContext to ensure that all StackContexts are run\n    412             # inside our blanket exception handler rather than outside.\n    413             with stack_context.NullContext():\n--> 414                 callback(*args, **kwargs)\n        callback = <function wrap.<locals>.null_wrapper>\n        args = ([<zmq.sugar.frame.Frame object>, <zmq.sugar.frame.Frame object>, <zmq.sugar.frame.Frame object>, <zmq.sugar.frame.Frame object>, <zmq.sugar.frame.Frame object>, <zmq.sugar.frame.Frame object>, <zmq.sugar.frame.Frame object>],)\n        kwargs = {}\n    415         except:\n    416             gen_log.error(\"Uncaught exception, closing connection.\",\n    417                           exc_info=True)\n    418             # Close the socket on an uncaught exception from a user callback\n\n...........................................................................\nC:\\Users\\user\\Anaconda3\\Lib\\site-packages\\tornado\\stack_context.py in null_wrapper(*args=([<zmq.sugar.frame.Frame object>, <zmq.sugar.frame.Frame object>, <zmq.sugar.frame.Frame object>, <zmq.sugar.frame.Frame object>, <zmq.sugar.frame.Frame object>, <zmq.sugar.frame.Frame object>, <zmq.sugar.frame.Frame object>],), **kwargs={})\n    272         # Fast path when there are no active contexts.\n    273         def null_wrapper(*args, **kwargs):\n    274             try:\n    275                 current_state = _state.contexts\n    276                 _state.contexts = cap_contexts[0]\n--> 277                 return fn(*args, **kwargs)\n        args = ([<zmq.sugar.frame.Frame object>, <zmq.sugar.frame.Frame object>, <zmq.sugar.frame.Frame object>, <zmq.sugar.frame.Frame object>, <zmq.sugar.frame.Frame object>, <zmq.sugar.frame.Frame object>, <zmq.sugar.frame.Frame object>],)\n        kwargs = {}\n    278             finally:\n    279                 _state.contexts = current_state\n    280         null_wrapper._wrapped = True\n    281         return null_wrapper\n\n...........................................................................\nC:\\Users\\user\\Anaconda3\\Lib\\site-packages\\ipykernel\\kernelbase.py in dispatcher(msg=[<zmq.sugar.frame.Frame object>, <zmq.sugar.frame.Frame object>, <zmq.sugar.frame.Frame object>, <zmq.sugar.frame.Frame object>, <zmq.sugar.frame.Frame object>, <zmq.sugar.frame.Frame object>, <zmq.sugar.frame.Frame object>])\n    278         if self.control_stream:\n    279             self.control_stream.on_recv(self.dispatch_control, copy=False)\n    280 \n    281         def make_dispatcher(stream):\n    282             def dispatcher(msg):\n--> 283                 return self.dispatch_shell(stream, msg)\n        msg = [<zmq.sugar.frame.Frame object>, <zmq.sugar.frame.Frame object>, <zmq.sugar.frame.Frame object>, <zmq.sugar.frame.Frame object>, <zmq.sugar.frame.Frame object>, <zmq.sugar.frame.Frame object>, <zmq.sugar.frame.Frame object>]\n    284             return dispatcher\n    285 \n    286         for s in self.shell_streams:\n    287             s.on_recv(make_dispatcher(s), copy=False)\n\n...........................................................................\nC:\\Users\\user\\Anaconda3\\Lib\\site-packages\\ipykernel\\kernelbase.py in dispatch_shell(self=<ipykernel.ipkernel.IPythonKernel object>, stream=<zmq.eventloop.zmqstream.ZMQStream object>, msg={'buffers': [], 'content': {'allow_stdin': True, 'code': \"rf = RandomForestClassifier()\\nparam = {'n_estoma...t_values('mean_test_score', ascending=False)[0:5]\", 'silent': False, 'stop_on_error': True, 'store_history': True, 'user_expressions': {}}, 'header': {'date': datetime.datetime(2018, 11, 10, 17, 51, 56, 958222, tzinfo=tzutc()), 'msg_id': '1DB0207D61A1491C8A2CE593CECC0946', 'msg_type': 'execute_request', 'session': '211EE977B1D44F418A057ACCD16CB5CD', 'username': 'username', 'version': '5.0'}, 'metadata': {}, 'msg_id': '1DB0207D61A1491C8A2CE593CECC0946', 'msg_type': 'execute_request', 'parent_header': {}})\n    230             self.log.warn(\"Unknown message type: %r\", msg_type)\n    231         else:\n    232             self.log.debug(\"%s: %s\", msg_type, msg)\n    233             self.pre_handler_hook()\n    234             try:\n--> 235                 handler(stream, idents, msg)\n        handler = <bound method Kernel.execute_request of <ipykernel.ipkernel.IPythonKernel object>>\n        stream = <zmq.eventloop.zmqstream.ZMQStream object>\n        idents = [b'211EE977B1D44F418A057ACCD16CB5CD']\n        msg = {'buffers': [], 'content': {'allow_stdin': True, 'code': \"rf = RandomForestClassifier()\\nparam = {'n_estoma...t_values('mean_test_score', ascending=False)[0:5]\", 'silent': False, 'stop_on_error': True, 'store_history': True, 'user_expressions': {}}, 'header': {'date': datetime.datetime(2018, 11, 10, 17, 51, 56, 958222, tzinfo=tzutc()), 'msg_id': '1DB0207D61A1491C8A2CE593CECC0946', 'msg_type': 'execute_request', 'session': '211EE977B1D44F418A057ACCD16CB5CD', 'username': 'username', 'version': '5.0'}, 'metadata': {}, 'msg_id': '1DB0207D61A1491C8A2CE593CECC0946', 'msg_type': 'execute_request', 'parent_header': {}}\n    236             except Exception:\n    237                 self.log.error(\"Exception in message handler:\", exc_info=True)\n    238             finally:\n    239                 self.post_handler_hook()\n\n...........................................................................\nC:\\Users\\user\\Anaconda3\\Lib\\site-packages\\ipykernel\\kernelbase.py in execute_request(self=<ipykernel.ipkernel.IPythonKernel object>, stream=<zmq.eventloop.zmqstream.ZMQStream object>, ident=[b'211EE977B1D44F418A057ACCD16CB5CD'], parent={'buffers': [], 'content': {'allow_stdin': True, 'code': \"rf = RandomForestClassifier()\\nparam = {'n_estoma...t_values('mean_test_score', ascending=False)[0:5]\", 'silent': False, 'stop_on_error': True, 'store_history': True, 'user_expressions': {}}, 'header': {'date': datetime.datetime(2018, 11, 10, 17, 51, 56, 958222, tzinfo=tzutc()), 'msg_id': '1DB0207D61A1491C8A2CE593CECC0946', 'msg_type': 'execute_request', 'session': '211EE977B1D44F418A057ACCD16CB5CD', 'username': 'username', 'version': '5.0'}, 'metadata': {}, 'msg_id': '1DB0207D61A1491C8A2CE593CECC0946', 'msg_type': 'execute_request', 'parent_header': {}})\n    394         if not silent:\n    395             self.execution_count += 1\n    396             self._publish_execute_input(code, parent, self.execution_count)\n    397 \n    398         reply_content = self.do_execute(code, silent, store_history,\n--> 399                                         user_expressions, allow_stdin)\n        user_expressions = {}\n        allow_stdin = True\n    400 \n    401         # Flush output before sending the reply.\n    402         sys.stdout.flush()\n    403         sys.stderr.flush()\n\n...........................................................................\nC:\\Users\\user\\Anaconda3\\Lib\\site-packages\\ipykernel\\ipkernel.py in do_execute(self=<ipykernel.ipkernel.IPythonKernel object>, code=\"rf = RandomForestClassifier()\\nparam = {'n_estoma...t_values('mean_test_score', ascending=False)[0:5]\", silent=False, store_history=True, user_expressions={}, allow_stdin=True)\n    191 \n    192         self._forward_input(allow_stdin)\n    193 \n    194         reply_content = {}\n    195         try:\n--> 196             res = shell.run_cell(code, store_history=store_history, silent=silent)\n        res = undefined\n        shell.run_cell = <bound method ZMQInteractiveShell.run_cell of <ipykernel.zmqshell.ZMQInteractiveShell object>>\n        code = \"rf = RandomForestClassifier()\\nparam = {'n_estoma...t_values('mean_test_score', ascending=False)[0:5]\"\n        store_history = True\n        silent = False\n    197         finally:\n    198             self._restore_input()\n    199 \n    200         if res.error_before_exec is not None:\n\n...........................................................................\nC:\\Users\\user\\Anaconda3\\Lib\\site-packages\\ipykernel\\zmqshell.py in run_cell(self=<ipykernel.zmqshell.ZMQInteractiveShell object>, *args=(\"rf = RandomForestClassifier()\\nparam = {'n_estoma...t_values('mean_test_score', ascending=False)[0:5]\",), **kwargs={'silent': False, 'store_history': True})\n    528             )\n    529         self.payload_manager.write_payload(payload)\n    530 \n    531     def run_cell(self, *args, **kwargs):\n    532         self._last_traceback = None\n--> 533         return super(ZMQInteractiveShell, self).run_cell(*args, **kwargs)\n        self.run_cell = <bound method ZMQInteractiveShell.run_cell of <ipykernel.zmqshell.ZMQInteractiveShell object>>\n        args = (\"rf = RandomForestClassifier()\\nparam = {'n_estoma...t_values('mean_test_score', ascending=False)[0:5]\",)\n        kwargs = {'silent': False, 'store_history': True}\n    534 \n    535     def _showtraceback(self, etype, evalue, stb):\n    536         # try to preserve ordering of tracebacks and print statements\n    537         sys.stdout.flush()\n\n...........................................................................\nC:\\Users\\user\\Anaconda3\\Lib\\site-packages\\IPython\\core\\interactiveshell.py in run_cell(self=<ipykernel.zmqshell.ZMQInteractiveShell object>, raw_cell=\"rf = RandomForestClassifier()\\nparam = {'n_estoma...t_values('mean_test_score', ascending=False)[0:5]\", store_history=True, silent=False, shell_futures=True)\n   2693                 self.displayhook.exec_result = result\n   2694 \n   2695                 # Execute the user code\n   2696                 interactivity = \"none\" if silent else self.ast_node_interactivity\n   2697                 has_raised = self.run_ast_nodes(code_ast.body, cell_name,\n-> 2698                    interactivity=interactivity, compiler=compiler, result=result)\n        interactivity = 'last_expr'\n        compiler = <IPython.core.compilerop.CachingCompiler object>\n   2699                 \n   2700                 self.last_execution_succeeded = not has_raised\n   2701 \n   2702                 # Reset this so later displayed values do not modify the\n\n...........................................................................\nC:\\Users\\user\\Anaconda3\\Lib\\site-packages\\IPython\\core\\interactiveshell.py in run_ast_nodes(self=<ipykernel.zmqshell.ZMQInteractiveShell object>, nodelist=[<_ast.Assign object>, <_ast.Assign object>, <_ast.Assign object>, <_ast.Assign object>, <_ast.Expr object>], cell_name='<ipython-input-52-792efda225a8>', interactivity='last', compiler=<IPython.core.compilerop.CachingCompiler object>, result=<ExecutionResult object at 1f1976d5710, executio..._before_exec=None error_in_exec=None result=None>)\n   2797 \n   2798         try:\n   2799             for i, node in enumerate(to_run_exec):\n   2800                 mod = ast.Module([node])\n   2801                 code = compiler(mod, cell_name, \"exec\")\n-> 2802                 if self.run_code(code, result):\n        self.run_code = <bound method InteractiveShell.run_code of <ipykernel.zmqshell.ZMQInteractiveShell object>>\n        code = <code object <module> at 0x000001F197E95DB0, file \"<ipython-input-52-792efda225a8>\", line 4>\n        result = <ExecutionResult object at 1f1976d5710, executio..._before_exec=None error_in_exec=None result=None>\n   2803                     return True\n   2804 \n   2805             for i, node in enumerate(to_run_interactive):\n   2806                 mod = ast.Interactive([node])\n\n...........................................................................\nC:\\Users\\user\\Anaconda3\\Lib\\site-packages\\IPython\\core\\interactiveshell.py in run_code(self=<ipykernel.zmqshell.ZMQInteractiveShell object>, code_obj=<code object <module> at 0x000001F197E95DB0, file \"<ipython-input-52-792efda225a8>\", line 4>, result=<ExecutionResult object at 1f1976d5710, executio..._before_exec=None error_in_exec=None result=None>)\n   2857         outflag = True  # happens in more places, so it's easier as default\n   2858         try:\n   2859             try:\n   2860                 self.hooks.pre_run_code_hook()\n   2861                 #rprint('Running code', repr(code_obj)) # dbg\n-> 2862                 exec(code_obj, self.user_global_ns, self.user_ns)\n        code_obj = <code object <module> at 0x000001F197E95DB0, file \"<ipython-input-52-792efda225a8>\", line 4>\n        self.user_global_ns = {'GridSearchCV': <class 'sklearn.model_selection._search.GridSearchCV'>, 'In': ['', 'from sklearn.ensemble import RandomForestClassif...restClassifier))\\nprint (RandomForestClassifier())', 'import string \\nimport pandas as pd\\nimport nltk', \"import string \\nimport pandas as pd\\nimport nltk\\n\\n...olumns = ['label', 'body_text']\\ndataset.sample(5)\", \"import string \\nimport pandas as pd\\nimport nltk\\ni...olumns = ['label', 'body_text']\\ndataset.sample(5)\", \"import string \\nimport pandas as pd\\nimport nltk\\nimport os\\n\\nnltk.tokenize('Hello Mike!')\", \"import string \\nimport pandas as pd\\nimport nltk\\ni... os\\n\\nx = nltk.tokenize()\\nx.tokenize('Hello Mike')\", \"import string \\nimport pandas as pd\\nimport nltk\\ni... nltk.tokenize.word_tokenize()\\nx('Hello Micheal')\", \"import string \\nimport pandas as pd\\nfrom nltk.tok...e\\nimport os\\n\\nx = 'Hello Micheal'\\nword_tokenize(x)\", \"import string \\nimport pandas as pd\\nfrom nltk.tok...\\nimport os\\n\\nx = 'Hello Micheal!'\\nword_tokenize(x)\", \"import string \\nimport pandas as pd\\nfrom nltk.tok...import os\\n\\nx = 'Hello Micheal!x'\\nword_tokenize(x)\", \"import string \\nimport pandas as pd\\nfrom nltk.tok...mport os\\n\\nx = 'Hello wMicheal!x'\\nword_tokenize(x)\", \"import string \\nimport pandas as pd\\nfrom nltk.tok... os\\n\\nx = 'Hello wMicheal!x'\\nwordpunct_tokenize(x)\", \"import string \\nimport pandas as pd\\nimport nltk\\ni...(5)\\n\\nfor i in 'hello, how are you?':\\n    print(i)\", \"import string \\nimport pandas as pd\\nimport nltk\\ni...t']\\ndataset.sample(5)\\n\\nlist('hello, how are you')\", 'import string \\nimport pandas as pd\\nimport nltk\\ni...unctuation_and_body_len(x)[1])    \\ndataset.head()', 'import string \\nimport pandas as pd\\nimport nltk\\nf...unctuation_and_body_len(x)[1])    \\ndataset.head()', 'import string \\nimport pandas as pd\\nimport nltk\\nf...unctuation_and_body_len(x)[1])    \\ndataset.head()', 'import string \\nimport pandas as pd\\nimport nltk\\nf...rdpunct_tokenize(\"I\\'ve come along way, isn\\'t it\")', \"import string \\nimport pandas as pd\\nimport nltk\\nf...\\nf = re.split('\\\\s', x)\\nprint(d, '\\\\n', e, '\\\\n', f)\", ...], 'KFold': <class 'sklearn.model_selection._split.KFold'>, 'Out': {4:      label                                      ...Don't Think About \"What u Have Got\" Think Abou..., 8: ['Hello', 'Micheal'], 9: ['Hello', 'Micheal', '!'], 10: ['Hello', 'Micheal', '!', 'x'], 11: ['Hello', 'wMicheal', '!', 'x'], 12: ['Hello', 'wMicheal', '!', 'x'], 14: ['h', 'e', 'l', 'l', 'o', ',', ' ', 'h', 'o', 'w', ' ', 'a', 'r', 'e', ' ', 'y', 'o', 'u'], 17:   label                                         ...e, on, sunday, with, will, !!]        28    0.0  , 18: ['I', \"'\", 've', 'come', 'along', 'way', ',', 'isn', \"'\", 't', 'it'], 21:   label                                         ...              I HAVE A DATE ON SUNDAY WITH WILL!!, ...}, 'RandomForestClassifier': <class 'sklearn.ensemble.forest.RandomForestClassifier'>, 'TfidfVectorizer': <class 'sklearn.feature_extraction.text.TfidfVectorizer'>, 'X_test':       body_len  punc%         0    1    2    3  ...0   0.0   0.0   0.0  \n\n[1114 rows x 8277 columns], 'X_train':       body_len  punc%         0    1    2    3  ...0   0.0   0.0   0.0  \n\n[4454 rows x 8277 columns], '_': [(0.052545010052052588, 7433), (0.047912896649722717, 'body_len'), (0.03493022358722473, 2025), (0.028063408956728229, 4842), (0.027243493132409841, 7259), (0.025809232613581715, 3146), (0.017047652776907705, 1791), (0.016071157852615509, 7300), (0.016010736566878337, 7098), (0.015477643355366661, 380)], '_10': ['Hello', 'Micheal', '!', 'x'], ...}\n        self.user_ns = {'GridSearchCV': <class 'sklearn.model_selection._search.GridSearchCV'>, 'In': ['', 'from sklearn.ensemble import RandomForestClassif...restClassifier))\\nprint (RandomForestClassifier())', 'import string \\nimport pandas as pd\\nimport nltk', \"import string \\nimport pandas as pd\\nimport nltk\\n\\n...olumns = ['label', 'body_text']\\ndataset.sample(5)\", \"import string \\nimport pandas as pd\\nimport nltk\\ni...olumns = ['label', 'body_text']\\ndataset.sample(5)\", \"import string \\nimport pandas as pd\\nimport nltk\\nimport os\\n\\nnltk.tokenize('Hello Mike!')\", \"import string \\nimport pandas as pd\\nimport nltk\\ni... os\\n\\nx = nltk.tokenize()\\nx.tokenize('Hello Mike')\", \"import string \\nimport pandas as pd\\nimport nltk\\ni... nltk.tokenize.word_tokenize()\\nx('Hello Micheal')\", \"import string \\nimport pandas as pd\\nfrom nltk.tok...e\\nimport os\\n\\nx = 'Hello Micheal'\\nword_tokenize(x)\", \"import string \\nimport pandas as pd\\nfrom nltk.tok...\\nimport os\\n\\nx = 'Hello Micheal!'\\nword_tokenize(x)\", \"import string \\nimport pandas as pd\\nfrom nltk.tok...import os\\n\\nx = 'Hello Micheal!x'\\nword_tokenize(x)\", \"import string \\nimport pandas as pd\\nfrom nltk.tok...mport os\\n\\nx = 'Hello wMicheal!x'\\nword_tokenize(x)\", \"import string \\nimport pandas as pd\\nfrom nltk.tok... os\\n\\nx = 'Hello wMicheal!x'\\nwordpunct_tokenize(x)\", \"import string \\nimport pandas as pd\\nimport nltk\\ni...(5)\\n\\nfor i in 'hello, how are you?':\\n    print(i)\", \"import string \\nimport pandas as pd\\nimport nltk\\ni...t']\\ndataset.sample(5)\\n\\nlist('hello, how are you')\", 'import string \\nimport pandas as pd\\nimport nltk\\ni...unctuation_and_body_len(x)[1])    \\ndataset.head()', 'import string \\nimport pandas as pd\\nimport nltk\\nf...unctuation_and_body_len(x)[1])    \\ndataset.head()', 'import string \\nimport pandas as pd\\nimport nltk\\nf...unctuation_and_body_len(x)[1])    \\ndataset.head()', 'import string \\nimport pandas as pd\\nimport nltk\\nf...rdpunct_tokenize(\"I\\'ve come along way, isn\\'t it\")', \"import string \\nimport pandas as pd\\nimport nltk\\nf...\\nf = re.split('\\\\s', x)\\nprint(d, '\\\\n', e, '\\\\n', f)\", ...], 'KFold': <class 'sklearn.model_selection._split.KFold'>, 'Out': {4:      label                                      ...Don't Think About \"What u Have Got\" Think Abou..., 8: ['Hello', 'Micheal'], 9: ['Hello', 'Micheal', '!'], 10: ['Hello', 'Micheal', '!', 'x'], 11: ['Hello', 'wMicheal', '!', 'x'], 12: ['Hello', 'wMicheal', '!', 'x'], 14: ['h', 'e', 'l', 'l', 'o', ',', ' ', 'h', 'o', 'w', ' ', 'a', 'r', 'e', ' ', 'y', 'o', 'u'], 17:   label                                         ...e, on, sunday, with, will, !!]        28    0.0  , 18: ['I', \"'\", 've', 'come', 'along', 'way', ',', 'isn', \"'\", 't', 'it'], 21:   label                                         ...              I HAVE A DATE ON SUNDAY WITH WILL!!, ...}, 'RandomForestClassifier': <class 'sklearn.ensemble.forest.RandomForestClassifier'>, 'TfidfVectorizer': <class 'sklearn.feature_extraction.text.TfidfVectorizer'>, 'X_test':       body_len  punc%         0    1    2    3  ...0   0.0   0.0   0.0  \n\n[1114 rows x 8277 columns], 'X_train':       body_len  punc%         0    1    2    3  ...0   0.0   0.0   0.0  \n\n[4454 rows x 8277 columns], '_': [(0.052545010052052588, 7433), (0.047912896649722717, 'body_len'), (0.03493022358722473, 2025), (0.028063408956728229, 4842), (0.027243493132409841, 7259), (0.025809232613581715, 3146), (0.017047652776907705, 1791), (0.016071157852615509, 7300), (0.016010736566878337, 7098), (0.015477643355366661, 380)], '_10': ['Hello', 'Micheal', '!', 'x'], ...}\n   2863             finally:\n   2864                 # Reset our crash handler in place\n   2865                 sys.excepthook = old_excepthook\n   2866         except SystemExit as e:\n\n...........................................................................\nC:\\Users\\user\\Documents\\NLTK\\<ipython-input-52-792efda225a8> in <module>()\n      1 rf = RandomForestClassifier()\n      2 param = {'n_estomators': [10, 50, 300], 'max_depth':[30, 60, 90, None]}\n      3 gs = GridSearchCV(rf, param, cv=5, n_jobs=-1)\n----> 4 gs_fit = gs.fit(x_features, dataset['label'])\n      5 pd.DataFrame(gs_fit.cv_results_).sort_values('mean_test_score', ascending=False)[0:5]\n\n...........................................................................\nC:\\Users\\user\\Anaconda3\\Lib\\site-packages\\sklearn\\model_selection\\_search.py in fit(self=GridSearchCV(cv=5, error_score='raise',\n       e...ain_score='warn',\n       scoring=None, verbose=0), X=      body_len  punc%         0    1    2    3  ...0   0.0   0.0   0.0  \n\n[5568 rows x 8277 columns], y=0        ham\n1       spam\n2        ham\n3        ...     ham\nName: label, Length: 5568, dtype: object, groups=None, **fit_params={})\n    634                                   return_train_score=self.return_train_score,\n    635                                   return_n_test_samples=True,\n    636                                   return_times=True, return_parameters=False,\n    637                                   error_score=self.error_score)\n    638           for parameters, (train, test) in product(candidate_params,\n--> 639                                                    cv.split(X, y, groups)))\n        cv.split = <bound method StratifiedKFold.split of Stratifie...ld(n_splits=5, random_state=None, shuffle=False)>\n        X =       body_len  punc%         0    1    2    3  ...0   0.0   0.0   0.0  \n\n[5568 rows x 8277 columns]\n        y = 0        ham\n1       spam\n2        ham\n3        ...     ham\nName: label, Length: 5568, dtype: object\n        groups = None\n    640 \n    641         # if one choose to see train score, \"out\" will contain train score info\n    642         if self.return_train_score:\n    643             (train_score_dicts, test_score_dicts, test_sample_counts, fit_time,\n\n...........................................................................\nC:\\Users\\user\\Anaconda3\\Lib\\site-packages\\sklearn\\externals\\joblib\\parallel.py in __call__(self=Parallel(n_jobs=-1), iterable=<generator object BaseSearchCV.fit.<locals>.<genexpr>>)\n    784             if pre_dispatch == \"all\" or n_jobs == 1:\n    785                 # The iterable was consumed all at once by the above for loop.\n    786                 # No need to wait for async callbacks to trigger to\n    787                 # consumption.\n    788                 self._iterating = False\n--> 789             self.retrieve()\n        self.retrieve = <bound method Parallel.retrieve of Parallel(n_jobs=-1)>\n    790             # Make sure that we get a last message telling us we are done\n    791             elapsed_time = time.time() - self._start_time\n    792             self._print('Done %3i out of %3i | elapsed: %s finished',\n    793                         (len(self._output), len(self._output),\n\n---------------------------------------------------------------------------\nSub-process traceback:\n---------------------------------------------------------------------------\nValueError                                         Sat Nov 10 17:52:02 2018\nPID: 17460                 Python 3.6.3: C:\\Users\\user\\Anaconda3\\python.exe\n...........................................................................\nC:\\Users\\user\\Anaconda3\\Lib\\site-packages\\sklearn\\externals\\joblib\\parallel.py in __call__(self=<sklearn.externals.joblib.parallel.BatchedCalls object>)\n    126     def __init__(self, iterator_slice):\n    127         self.items = list(iterator_slice)\n    128         self._size = len(self.items)\n    129 \n    130     def __call__(self):\n--> 131         return [func(*args, **kwargs) for func, args, kwargs in self.items]\n        self.items = [(<function _fit_and_score>, (RandomForestClassifier(bootstrap=True, class_wei...te=None, verbose=0,\n            warm_start=False),       body_len  punc%         0    1    2    3  ...0   0.0   0.0   0.0  \n\n[5568 rows x 8277 columns], 0        ham\n1       spam\n2        ham\n3        ...     ham\nName: label, Length: 5568, dtype: object, {'score': <function _passthrough_scorer>}, array([ 979,  998, 1003, ..., 5565, 5566, 5567]), array([   0,    1,    2, ..., 1135, 1136, 1137]), 0, {'max_depth': 30, 'n_estomators': 10}), {'error_score': 'raise', 'fit_params': {}, 'return_n_test_samples': True, 'return_parameters': False, 'return_times': True, 'return_train_score': 'warn'})]\n    132 \n    133     def __len__(self):\n    134         return self._size\n    135 \n\n...........................................................................\nC:\\Users\\user\\Anaconda3\\Lib\\site-packages\\sklearn\\externals\\joblib\\parallel.py in <listcomp>(.0=<list_iterator object>)\n    126     def __init__(self, iterator_slice):\n    127         self.items = list(iterator_slice)\n    128         self._size = len(self.items)\n    129 \n    130     def __call__(self):\n--> 131         return [func(*args, **kwargs) for func, args, kwargs in self.items]\n        func = <function _fit_and_score>\n        args = (RandomForestClassifier(bootstrap=True, class_wei...te=None, verbose=0,\n            warm_start=False),       body_len  punc%         0    1    2    3  ...0   0.0   0.0   0.0  \n\n[5568 rows x 8277 columns], 0        ham\n1       spam\n2        ham\n3        ...     ham\nName: label, Length: 5568, dtype: object, {'score': <function _passthrough_scorer>}, array([ 979,  998, 1003, ..., 5565, 5566, 5567]), array([   0,    1,    2, ..., 1135, 1136, 1137]), 0, {'max_depth': 30, 'n_estomators': 10})\n        kwargs = {'error_score': 'raise', 'fit_params': {}, 'return_n_test_samples': True, 'return_parameters': False, 'return_times': True, 'return_train_score': 'warn'}\n    132 \n    133     def __len__(self):\n    134         return self._size\n    135 \n\n...........................................................................\nC:\\Users\\user\\Anaconda3\\Lib\\site-packages\\sklearn\\model_selection\\_validation.py in _fit_and_score(estimator=RandomForestClassifier(bootstrap=True, class_wei...te=None, verbose=0,\n            warm_start=False), X=      body_len  punc%         0    1    2    3  ...0   0.0   0.0   0.0  \n\n[5568 rows x 8277 columns], y=0        ham\n1       spam\n2        ham\n3        ...     ham\nName: label, Length: 5568, dtype: object, scorer={'score': <function _passthrough_scorer>}, train=array([ 979,  998, 1003, ..., 5565, 5566, 5567]), test=array([   0,    1,    2, ..., 1135, 1136, 1137]), verbose=0, parameters={'max_depth': 30, 'n_estomators': 10}, fit_params={}, return_train_score='warn', return_parameters=False, return_n_test_samples=True, return_times=True, error_score='raise')\n    439                       for k, v in fit_params.items()])\n    440 \n    441     test_scores = {}\n    442     train_scores = {}\n    443     if parameters is not None:\n--> 444         estimator.set_params(**parameters)\n        estimator.set_params = <bound method BaseEstimator.set_params of Random...e=None, verbose=0,\n            warm_start=False)>\n        parameters = {'max_depth': 30, 'n_estomators': 10}\n    445 \n    446     start_time = time.time()\n    447 \n    448     X_train, y_train = _safe_split(estimator, X, y, train)\n\n...........................................................................\nC:\\Users\\user\\Anaconda3\\Lib\\site-packages\\sklearn\\base.py in set_params(self=RandomForestClassifier(bootstrap=True, class_wei...te=None, verbose=0,\n            warm_start=False), **params={'max_depth': 30, 'n_estomators': 10})\n    269             key, delim, sub_key = key.partition('__')\n    270             if key not in valid_params:\n    271                 raise ValueError('Invalid parameter %s for estimator %s. '\n    272                                  'Check the list of available parameters '\n    273                                  'with `estimator.get_params().keys()`.' %\n--> 274                                  (key, self))\n        key = 'n_estomators'\n        self = RandomForestClassifier(bootstrap=True, class_wei...te=None, verbose=0,\n            warm_start=False)\n    275 \n    276             if delim:\n    277                 nested_params[key][sub_key] = value\n    278             else:\n\nValueError: Invalid parameter n_estomators for estimator RandomForestClassifier(bootstrap=True, class_weight=None, criterion='gini',\n            max_depth=30, max_features='auto', max_leaf_nodes=None,\n            min_impurity_decrease=0.0, min_impurity_split=None,\n            min_samples_leaf=1, min_samples_split=2,\n            min_weight_fraction_leaf=0.0, n_estimators=10, n_jobs=1,\n            oob_score=False, random_state=None, verbose=0,\n            warm_start=False). Check the list of available parameters with `estimator.get_params().keys()`.\n___________________________________________________________________________"
     ]
    }
   ],
   "source": [
    "rf = RandomForestClassifier()\n",
    "param = {'n_estomators': [10, 50, 300], 'max_depth':[30, 60, 90, None]}\n",
    "gs = GridSearchCV(rf, param, cv=5, n_jobs=-1)\n",
    "gs_fit = gs.fit(x_features, dataset['label'])\n",
    "pd.DataFrame(gs_fit.cv_results_).sort_values('mean_test_score', ascending=False)[0:5]"
   ]
  },
  {
   "cell_type": "code",
   "execution_count": null,
   "metadata": {
    "collapsed": true
   },
   "outputs": [],
   "source": [
    "rf = RandomForestClassifier()\n",
    "param = {'n_estomators': [10, 50, 300], 'max_depth':[30, 60, 90, None]}\n",
    "gs = GridSearchCV(rf, param, cv=5, n_jobs=-1)\n",
    "gs_fit = gs.fit(x_features, dataset['label'])\n",
    "pd.DataFrame(gs_fit.cv_results_).sort_values('mean_test_score', ascending=False)[0:5]"
   ]
  },
  {
   "cell_type": "code",
   "execution_count": null,
   "metadata": {
    "collapsed": true
   },
   "outputs": [],
   "source": []
  }
 ],
 "metadata": {
  "kernelspec": {
   "display_name": "Python 3",
   "language": "python",
   "name": "python3"
  },
  "language_info": {
   "codemirror_mode": {
    "name": "ipython",
    "version": 3
   },
   "file_extension": ".py",
   "mimetype": "text/x-python",
   "name": "python",
   "nbconvert_exporter": "python",
   "pygments_lexer": "ipython3",
   "version": "3.6.3"
  }
 },
 "nbformat": 4,
 "nbformat_minor": 2
}
