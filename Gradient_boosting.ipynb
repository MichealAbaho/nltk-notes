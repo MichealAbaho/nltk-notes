{
 "cells": [
  {
   "cell_type": "markdown",
   "metadata": {},
   "source": [
    "**GRADIENT BOOSTING**\n",
    "\n",
    " It takes an iterative approach by combining weak learners to create strong learner by focusing on mistakes of prior iterations"
   ]
  },
  {
   "cell_type": "markdown",
   "metadata": {},
   "source": [
    "Uses the boosting method\n",
    "Pros:\n",
    "    - Extremely Powerful\n",
    "    - Accepts various types of inputs\n",
    "    - Can be used for classification\n",
    "    - Outputs feature importance\n",
    "Cons:\n",
    "    - Longer to train(Can't parallelize')\n",
    "    - More difficult to properly tune\n",
    "    - More likely to overfit"
   ]
  },
  {
   "cell_type": "code",
   "execution_count": 15,
   "metadata": {},
   "outputs": [
    {
     "ename": "SyntaxError",
     "evalue": "invalid syntax (<ipython-input-15-f64afcc14cd4>, line 38)",
     "output_type": "error",
     "traceback": [
      "\u001b[1;36m  File \u001b[1;32m\"<ipython-input-15-f64afcc14cd4>\"\u001b[1;36m, line \u001b[1;32m38\u001b[0m\n\u001b[1;33m    x_count_features = CountVectorizer.(analyzer=clean_data),fit_trasnform(dataset['body_text'])\u001b[0m\n\u001b[1;37m                                       ^\u001b[0m\n\u001b[1;31mSyntaxError\u001b[0m\u001b[1;31m:\u001b[0m invalid syntax\n"
     ]
    }
   ],
   "source": [
    "import string \n",
    "import pandas as pd\n",
    "import nltk\n",
    "from nltk.tokenize import wordpunct_tokenize,word_tokenize\n",
    "import os\n",
    "import re\n",
    "from sklearn.feature_extraction.text import TfidfVectorizer, CountVectorizer\n",
    "\n",
    "dataset = pd.read_csv(os.getcwd()+'\\\\Ex_Files_NLP_Python_ML_EssT\\\\Exercise Files\\\\Ch01\\\\01_03\\\\Start\\\\SMSSpamCollection.tsv', header=None, sep='\\t')\n",
    "dataset.columns = ['label', 'body_text']\n",
    "\n",
    "#create new features containing the percentage of punctuation in text and the body length of text \n",
    "\n",
    "def count_punctuation_and_body_len(text):\n",
    "    punct_count = [char for char in text if char in string.punctuation]\n",
    "    body_len = len(text) - text.count(\" \")\n",
    "    punct_perc = round(len(punct_count)/body_len, 3)*100\n",
    "    return body_len, punct_perc\n",
    "\n",
    "dataset['body_len'] = dataset['body_text'].apply(lambda x: count_punctuation_and_body_len(x)[0])\n",
    "dataset['punc%'] = dataset['body_text'].apply(lambda x: count_punctuation_and_body_len(x)[1])\n",
    "\n",
    "sp_words = nltk.corpus.stopwords.words('english')\n",
    "ps = nltk.PorterStemmer()\n",
    "def clean_data(text):\n",
    "    tokens = ''.join([char for char in text if char not in string.punctuation])\n",
    "    tokens_punct = re.split('\\s+', tokens)\n",
    "    tokens_stop = [token.lower()  for token in tokens_punct if token not in sp_words]\n",
    "    clean_text = [ps.stem(word) for word in tokens_stop]\n",
    "    return clean_text\n",
    "\n",
    "dataset['cleaned_text'] = dataset['body_text'].apply(lambda x: clean_data(x))\n",
    "    \n",
    "tfidf_vect = TfidfVectorizer(analyzer=clean_data)\n",
    "x_tfidf = tfidf_vect.fit_transform(dataset['body_text'])\n",
    "dataset_frame = pd.DataFrame(x_tfidf.toarray())\n",
    "x_tfidf_features = pd.concat([dataset[['body_len','punc%']], dataset_frame], axis=1)\n",
    "x_count_features = CountVectorizer.(analyzer=clean_data),fit_trasnform(dataset['body_text'])\n",
    "x_tfidf_features.head()"
   ]
  },
  {
   "cell_type": "code",
   "execution_count": null,
   "metadata": {
    "collapsed": true
   },
   "outputs": [],
   "source": [
    "from sklearn.ensemble import GradientBoostingClassifier\n",
    "from sklearn.model_selection import train_test_split, cross_val_score\n",
    "from sklearn.metrics import precision_recall_fscore_support as score"
   ]
  },
  {
   "cell_type": "code",
   "execution_count": 7,
   "metadata": {},
   "outputs": [
    {
     "name": "stdout",
     "output_type": "stream",
     "text": [
      "['_SUPPORTED_LOSS', '__abstractmethods__', '__class__', '__delattr__', '__dict__', '__dir__', '__doc__', '__eq__', '__format__', '__ge__', '__getattribute__', '__getitem__', '__getstate__', '__gt__', '__hash__', '__init__', '__init_subclass__', '__iter__', '__le__', '__len__', '__lt__', '__module__', '__ne__', '__new__', '__reduce__', '__reduce_ex__', '__repr__', '__setattr__', '__setstate__', '__sizeof__', '__str__', '__subclasshook__', '__weakref__', '_abc_cache', '_abc_negative_cache', '_abc_negative_cache_version', '_abc_registry', '_check_initialized', '_check_params', '_clear_state', '_decision_function', '_estimator_type', '_fit_stage', '_fit_stages', '_get_param_names', '_init_decision_function', '_init_state', '_is_initialized', '_make_estimator', '_resize_state', '_staged_decision_function', '_validate_estimator', '_validate_y', 'apply', 'decision_function', 'feature_importances_', 'fit', 'get_params', 'n_features', 'predict', 'predict_log_proba', 'predict_proba', 'score', 'set_params', 'staged_decision_function', 'staged_predict', 'staged_predict_proba']\n",
      "GradientBoostingClassifier(criterion='friedman_mse', init=None,\n",
      "              learning_rate=0.1, loss='deviance', max_depth=3,\n",
      "              max_features=None, max_leaf_nodes=None,\n",
      "              min_impurity_decrease=0.0, min_impurity_split=None,\n",
      "              min_samples_leaf=1, min_samples_split=2,\n",
      "              min_weight_fraction_leaf=0.0, n_estimators=100,\n",
      "              presort='auto', random_state=None, subsample=1.0, verbose=0,\n",
      "              warm_start=False)\n"
     ]
    }
   ],
   "source": [
    "print(dir(GradientBoostingClassifier))\n",
    "print(GradientBoostingClassifier())"
   ]
  },
  {
   "cell_type": "code",
   "execution_count": 13,
   "metadata": {
    "collapsed": true
   },
   "outputs": [],
   "source": [
    "X_train, x_test, y_train, y_test = train_test_split(x_tfidf_features, dataset['label'], test_size=0.2)\n",
    "def train_GB(est, max_depth, lr):\n",
    "    gb = GradientBoostingClassifier(n_estimators=est, max_depth=max_depth, learning_rate=lr)\n",
    "    gb_model = gb.fit(X_train, y_train)\n",
    "    y_pred = gb_model.predict(x_test)\n",
    "    precision, recall, fscore, support = score(y_test, y_pred, pos_label='spam', average='binary')\n",
    "    print ('n_est: {} / max_dept: {} / learning_rate: {} ----- precision: {} / recall: {} / accuracy: {}'.format(\n",
    "                                    est, max_depth, lr, round(precision, 3), round(recall, 3),\n",
    "                                    round((y_test == y_pred).sum()/len(y_pred), 3)))"
   ]
  },
  {
   "cell_type": "code",
   "execution_count": null,
   "metadata": {},
   "outputs": [
    {
     "name": "stderr",
     "output_type": "stream",
     "text": [
      "C:\\Users\\user\\Anaconda3\\Lib\\site-packages\\sklearn\\metrics\\classification.py:1135: UndefinedMetricWarning: Precision and F-score are ill-defined and being set to 0.0 due to no predicted samples.\n",
      "  'precision', 'predicted', average, warn_for)\n"
     ]
    },
    {
     "name": "stdout",
     "output_type": "stream",
     "text": [
      "n_est: 50 / max_dept: 3 / learning_rate: 0.01 ----- precision: 0.0 / recall: 0.0 / accuracy: 0.873\n",
      "n_est: 50 / max_dept: 3 / learning_rate: 0.1 ----- precision: 0.946 / recall: 0.739 / accuracy: 0.961\n",
      "n_est: 50 / max_dept: 3 / learning_rate: 1 ----- precision: 0.884 / recall: 0.754 / accuracy: 0.956\n",
      "n_est: 50 / max_dept: 7 / learning_rate: 0.01 ----- precision: 1.0 / recall: 0.007 / accuracy: 0.873\n",
      "n_est: 50 / max_dept: 7 / learning_rate: 0.1 ----- precision: 0.883 / recall: 0.796 / accuracy: 0.961\n",
      "n_est: 50 / max_dept: 7 / learning_rate: 1 ----- precision: 0.836 / recall: 0.824 / accuracy: 0.957\n",
      "n_est: 50 / max_dept: 11 / learning_rate: 0.01 ----- precision: 0.0 / recall: 0.0 / accuracy: 0.873\n",
      "n_est: 50 / max_dept: 11 / learning_rate: 0.1 ----- precision: 0.892 / recall: 0.817 / accuracy: 0.964\n",
      "n_est: 50 / max_dept: 11 / learning_rate: 1 ----- precision: 0.85 / recall: 0.838 / accuracy: 0.961\n",
      "n_est: 50 / max_dept: 15 / learning_rate: 0.01 ----- precision: 0.0 / recall: 0.0 / accuracy: 0.873\n",
      "n_est: 50 / max_dept: 15 / learning_rate: 0.1 ----- precision: 0.893 / recall: 0.824 / accuracy: 0.965\n",
      "n_est: 50 / max_dept: 15 / learning_rate: 1 ----- precision: 0.861 / recall: 0.831 / accuracy: 0.961\n",
      "n_est: 100 / max_dept: 3 / learning_rate: 0.01 ----- precision: 0.943 / recall: 0.465 / accuracy: 0.928\n",
      "n_est: 100 / max_dept: 3 / learning_rate: 0.1 ----- precision: 0.948 / recall: 0.768 / accuracy: 0.965\n",
      "n_est: 100 / max_dept: 3 / learning_rate: 1 ----- precision: 0.893 / recall: 0.768 / accuracy: 0.959\n",
      "n_est: 100 / max_dept: 7 / learning_rate: 0.01 ----- precision: 0.905 / recall: 0.669 / accuracy: 0.949\n",
      "n_est: 100 / max_dept: 7 / learning_rate: 0.1 ----- precision: 0.891 / recall: 0.81 / accuracy: 0.963\n",
      "n_est: 100 / max_dept: 7 / learning_rate: 1 ----- precision: 0.853 / recall: 0.817 / accuracy: 0.959\n",
      "n_est: 100 / max_dept: 11 / learning_rate: 0.01 ----- precision: 0.905 / recall: 0.739 / accuracy: 0.957\n",
      "n_est: 100 / max_dept: 11 / learning_rate: 0.1 ----- precision: 0.899 / recall: 0.817 / accuracy: 0.965\n",
      "n_est: 100 / max_dept: 11 / learning_rate: 1 ----- precision: 0.84 / recall: 0.852 / accuracy: 0.961\n",
      "n_est: 100 / max_dept: 15 / learning_rate: 0.01 ----- precision: 0.898 / recall: 0.803 / accuracy: 0.963\n",
      "n_est: 100 / max_dept: 15 / learning_rate: 0.1 ----- precision: 0.886 / recall: 0.824 / accuracy: 0.964\n",
      "n_est: 100 / max_dept: 15 / learning_rate: 1 ----- precision: 0.834 / recall: 0.852 / accuracy: 0.96\n",
      "n_est: 150 / max_dept: 3 / learning_rate: 0.01 ----- precision: 0.924 / recall: 0.514 / accuracy: 0.933\n",
      "n_est: 150 / max_dept: 3 / learning_rate: 0.1 ----- precision: 0.94 / recall: 0.768 / accuracy: 0.964\n",
      "n_est: 150 / max_dept: 3 / learning_rate: 1 ----- precision: 0.912 / recall: 0.803 / accuracy: 0.965\n",
      "n_est: 150 / max_dept: 7 / learning_rate: 0.01 ----- precision: 0.912 / recall: 0.725 / accuracy: 0.956\n",
      "n_est: 150 / max_dept: 7 / learning_rate: 0.1 ----- precision: 0.892 / recall: 0.817 / accuracy: 0.964\n"
     ]
    }
   ],
   "source": [
    "for n_est in [50, 100,150]:\n",
    "    for max_depth in [3,7,11,15]:\n",
    "        for lr in [0.01, 0.1, 1]:\n",
    "            train_GB(n_est, max_depth, lr)"
   ]
  },
  {
   "cell_type": "raw",
   "metadata": {},
   "source": [
    "**EVALUATING GRADIENT BOOSTING CLASSIFIER USING GRIDSEARCH CV**"
   ]
  },
  {
   "cell_type": "code",
   "execution_count": null,
   "metadata": {
    "collapsed": true
   },
   "outputs": [],
   "source": [
    "from sklearn.ensemble import GradientBoostingClassifier\n",
    "from sklearn.model_selection imort GridSearchCV"
   ]
  },
  {
   "cell_type": "code",
   "execution_count": null,
   "metadata": {
    "collapsed": true
   },
   "outputs": [],
   "source": [
    "gb = GradientBoostingClassifier()\n",
    "param = {\n",
    "    'n_estimators':[100,150]\n",
    "    'max_depth':[7,11,15]\n",
    "    'learning_rate':[0.1]\n",
    "}\n",
    "gs = GridSearchCV(gb, param, cv=5, n_jobs=-1)\n",
    "cv_fit = gs.fit(x_tfidf_features, dataset['lable'])\n",
    "pd.DataFrame(cv_fit.cv_results_).sort_values('mean_test_score', ascending=False)[0:5]"
   ]
  },
  {
   "cell_type": "code",
   "execution_count": 17,
   "metadata": {},
   "outputs": [
    {
     "ename": "NameError",
     "evalue": "name 'GridSearchCV' is not defined",
     "output_type": "error",
     "traceback": [
      "\u001b[1;31m---------------------------------------------------------------------------\u001b[0m",
      "\u001b[1;31mNameError\u001b[0m                                 Traceback (most recent call last)",
      "\u001b[1;32m<ipython-input-17-202e85e9b06f>\u001b[0m in \u001b[0;36m<module>\u001b[1;34m()\u001b[0m\n\u001b[0;32m      5\u001b[0m     \u001b[1;34m'learning_rate'\u001b[0m\u001b[1;33m:\u001b[0m\u001b[1;33m[\u001b[0m\u001b[1;36m0.1\u001b[0m\u001b[1;33m]\u001b[0m\u001b[1;33m\u001b[0m\u001b[0m\n\u001b[0;32m      6\u001b[0m }\n\u001b[1;32m----> 7\u001b[1;33m \u001b[0mgs\u001b[0m \u001b[1;33m=\u001b[0m \u001b[0mGridSearchCV\u001b[0m\u001b[1;33m(\u001b[0m\u001b[0mgb\u001b[0m\u001b[1;33m,\u001b[0m \u001b[0mparam\u001b[0m\u001b[1;33m,\u001b[0m \u001b[0mcv\u001b[0m\u001b[1;33m=\u001b[0m\u001b[1;36m5\u001b[0m\u001b[1;33m,\u001b[0m \u001b[0mn_jobs\u001b[0m\u001b[1;33m=\u001b[0m\u001b[1;33m-\u001b[0m\u001b[1;36m1\u001b[0m\u001b[1;33m)\u001b[0m\u001b[1;33m\u001b[0m\u001b[0m\n\u001b[0m\u001b[0;32m      8\u001b[0m \u001b[0mcv_fit\u001b[0m \u001b[1;33m=\u001b[0m \u001b[0mgs\u001b[0m\u001b[1;33m.\u001b[0m\u001b[0mfit\u001b[0m\u001b[1;33m(\u001b[0m\u001b[0mx_count_features\u001b[0m\u001b[1;33m,\u001b[0m \u001b[0mdataset\u001b[0m\u001b[1;33m[\u001b[0m\u001b[1;34m'lable'\u001b[0m\u001b[1;33m]\u001b[0m\u001b[1;33m)\u001b[0m\u001b[1;33m\u001b[0m\u001b[0m\n\u001b[0;32m      9\u001b[0m \u001b[0mpd\u001b[0m\u001b[1;33m.\u001b[0m\u001b[0mDataFrame\u001b[0m\u001b[1;33m(\u001b[0m\u001b[0mcv_fit\u001b[0m\u001b[1;33m.\u001b[0m\u001b[0mcv_results_\u001b[0m\u001b[1;33m)\u001b[0m\u001b[1;33m.\u001b[0m\u001b[0msort_values\u001b[0m\u001b[1;33m(\u001b[0m\u001b[1;34m'mean_test_score'\u001b[0m\u001b[1;33m,\u001b[0m \u001b[0mascending\u001b[0m\u001b[1;33m=\u001b[0m\u001b[1;32mFalse\u001b[0m\u001b[1;33m)\u001b[0m\u001b[1;33m[\u001b[0m\u001b[1;36m0\u001b[0m\u001b[1;33m:\u001b[0m\u001b[1;36m5\u001b[0m\u001b[1;33m]\u001b[0m\u001b[1;33m\u001b[0m\u001b[0m\n",
      "\u001b[1;31mNameError\u001b[0m: name 'GridSearchCV' is not defined"
     ]
    }
   ],
   "source": [
    "gb = GradientBoostingClassifier()\n",
    "param = {\n",
    "    'n_estimators':[100,150],\n",
    "    'max_depth':[7,11,15],\n",
    "    'learning_rate':[0.1]\n",
    "}\n",
    "gs = GridSearchCV(gb, param, cv=5, n_jobs=-1)\n",
    "cv_fit = gs.fit(x_count_features, dataset['lable'])\n",
    "pd.DataFrame(cv_fit.cv_results_).sort_values('mean_test_score', ascending=False)[0:5]"
   ]
  },
  {
   "cell_type": "code",
   "execution_count": null,
   "metadata": {
    "collapsed": true
   },
   "outputs": [],
   "source": []
  }
 ],
 "metadata": {
  "kernelspec": {
   "display_name": "Python 3",
   "language": "python",
   "name": "python3"
  },
  "language_info": {
   "codemirror_mode": {
    "name": "ipython",
    "version": 3
   },
   "file_extension": ".py",
   "mimetype": "text/x-python",
   "name": "python",
   "nbconvert_exporter": "python",
   "pygments_lexer": "ipython3",
   "version": "3.6.3"
  }
 },
 "nbformat": 4,
 "nbformat_minor": 2
}
