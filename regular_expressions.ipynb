{
 "cells": [
  {
   "cell_type": "markdown",
   "metadata": {},
   "source": [
    "**REGULAR EXPRESSIONS**"
   ]
  },
  {
   "cell_type": "code",
   "execution_count": 1,
   "metadata": {
    "collapsed": true
   },
   "outputs": [],
   "source": [
    "import re"
   ]
  },
  {
   "cell_type": "raw",
   "metadata": {},
   "source": [
    "non-raw form strings matching"
   ]
  },
  {
   "cell_type": "code",
   "execution_count": 5,
   "metadata": {},
   "outputs": [
    {
     "data": {
      "text/plain": [
       "['m', 'i', 'c', 'h', 'e', 'a', 'l', '2', '6', '5', '.', 'c', 'o', 'm']"
      ]
     },
     "execution_count": 5,
     "metadata": {},
     "output_type": "execute_result"
    }
   ],
   "source": [
    "x = 'micheal265.com'\n",
    "pattern = re.compile('.')\n",
    "matches = pattern.findall(x)\n",
    "matches"
   ]
  },
  {
   "cell_type": "markdown",
   "metadata": {},
   "source": [
    "raw form of a string to escape special characters meta characters\n",
    "- . ^ $ * + { } [ ] | ( )"
   ]
  },
  {
   "cell_type": "code",
   "execution_count": 6,
   "metadata": {},
   "outputs": [
    {
     "data": {
      "text/plain": [
       "['.']"
      ]
     },
     "execution_count": 6,
     "metadata": {},
     "output_type": "execute_result"
    }
   ],
   "source": [
    "pattern = re.compile('\\.')\n",
    "matches = pattern.findall(x)\n",
    "matches"
   ]
  },
  {
   "cell_type": "raw",
   "metadata": {},
   "source": [
    "- . Any Character Except New Line\n",
    "- \\d or [0-9] - matches a Digit (0-9)  **AND** \\D or [^0-9] - matches a Non Digit \n",
    "- \\w or [a-zA-Z0-9_] - matches any alphanumeric character **AND** \\W or [^a-zA-Z0-9_] matches non-alphanumeric characters\n",
    "- \\s or [ \\t\\n\\r\\f\\v] - matches any whitespace character  **AND** \\s or [^ \\t\\n\\r\\f\\v] matches non whitespace characters"
   ]
  },
  {
   "cell_type": "code",
   "execution_count": 20,
   "metadata": {},
   "outputs": [
    {
     "data": {
      "text/plain": [
       "['m', 'i', 'c', 'h', 'e', 'a', 'l', '2', '6', '5', 'c', 'o', 'm']"
      ]
     },
     "execution_count": 20,
     "metadata": {},
     "output_type": "execute_result"
    }
   ],
   "source": [
    "pattern = re.compile(r'\\w')\n",
    "matches = pattern.findall(x)\n",
    "matches"
   ]
  },
  {
   "cell_type": "code",
   "execution_count": 21,
   "metadata": {},
   "outputs": [
    {
     "data": {
      "text/plain": [
       "['.']"
      ]
     },
     "execution_count": 21,
     "metadata": {},
     "output_type": "execute_result"
    }
   ],
   "source": [
    "pattern = re.compile(r'\\W')\n",
    "matches = pattern.findall(x)\n",
    "matches"
   ]
  },
  {
   "cell_type": "code",
   "execution_count": 22,
   "metadata": {},
   "outputs": [
    {
     "data": {
      "text/plain": [
       "['m', 'i', 'c', 'h', 'e', 'a', 'l', '2', '6', '5', '.', 'c', 'o', 'm']"
      ]
     },
     "execution_count": 22,
     "metadata": {},
     "output_type": "execute_result"
    }
   ],
   "source": [
    "pattern = re.compile(r'\\S')\n",
    "matches = pattern.findall(x)\n",
    "matches"
   ]
  },
  {
   "cell_type": "raw",
   "metadata": {},
   "source": [
    "\\b - word boundary, \\B - Non wordboundary, ^ - beginniong of a string, $ - end of a string"
   ]
  },
  {
   "cell_type": "code",
   "execution_count": 24,
   "metadata": {},
   "outputs": [
    {
     "data": {
      "text/plain": [
       "['com']"
      ]
     },
     "execution_count": 24,
     "metadata": {},
     "output_type": "execute_result"
    }
   ],
   "source": [
    "pattern = re.compile(r'\\bcom')\n",
    "matches = pattern.findall(x)\n",
    "matches"
   ]
  },
  {
   "cell_type": "code",
   "execution_count": 27,
   "metadata": {},
   "outputs": [
    {
     "data": {
      "text/plain": [
       "['micheal265.com']"
      ]
     },
     "execution_count": 27,
     "metadata": {},
     "output_type": "execute_result"
    }
   ],
   "source": [
    "pattern = re.compile(r'^m.+m$')\n",
    "matches = pattern.findall(x)\n",
    "matches"
   ]
  },
  {
   "cell_type": "code",
   "execution_count": 89,
   "metadata": {},
   "outputs": [],
   "source": [
    "x = '''micheal265.com Eric Williams 555-431-455 806 1st St., Faketown AK 86847 laurawilliams@bogusemail.com \\n\n",
    "    Mr Charles Harris 653-455-6507 969 High St., Atlantis VA 34075 charlesharris@bogusemail.com\n",
    "    Mr. Shonda lamb 553*461*455 806 1st St., Aimket AK 8687 laurawams@bogusemail.com\n",
    "    Mr. S lamb 553.461.455 806 1st St., Aimketown AK 687 laurawams@bogusemail.com\n",
    "    Mrs. Esther lamb 549.461.455 806 1st St., Aietown AK 8647 estherwams@bogusemail.com'''"
   ]
  },
  {
   "cell_type": "code",
   "execution_count": 90,
   "metadata": {},
   "outputs": [
    {
     "data": {
      "text/plain": [
       "['555-431-455',\n",
       " '806 1',\n",
       " '86847',\n",
       " '653-455-650',\n",
       " '7 969',\n",
       " '34075',\n",
       " '553*461*455',\n",
       " '806 1',\n",
       " '553.461.455',\n",
       " '806 1',\n",
       " '549.461.455',\n",
       " '806 1']"
      ]
     },
     "execution_count": 90,
     "metadata": {},
     "output_type": "execute_result"
    }
   ],
   "source": [
    "pattern = re.compile(r'\\d{1,3}.\\d{1,3}.\\d{1,3}')\n",
    "matches = pattern.findall(x)\n",
    "matches"
   ]
  },
  {
   "cell_type": "code",
   "execution_count": 91,
   "metadata": {},
   "outputs": [
    {
     "data": {
      "text/plain": [
       "['555-431-455', '653-455-650', '553*461*455', '553.461.455', '549.461.455']"
      ]
     },
     "execution_count": 91,
     "metadata": {},
     "output_type": "execute_result"
    }
   ],
   "source": [
    "pattern = re.compile(r'\\d{1,3}[.*-]\\d{1,3}[.*-]\\d{1,3}')\n",
    "matches = pattern.findall(x)\n",
    "matches"
   ]
  },
  {
   "cell_type": "raw",
   "metadata": {},
   "source": [
    "Quantifiers\n",
    "* - 0 or More, + - 1 or more, ? 0 or one, {3} - Exact number, {3,4} - range of numbers minimum, maximum"
   ]
  },
  {
   "cell_type": "code",
   "execution_count": 92,
   "metadata": {},
   "outputs": [
    {
     "data": {
      "text/plain": [
       "['Mr Charles', 'Mr. Shonda', 'Mr. S']"
      ]
     },
     "execution_count": 92,
     "metadata": {},
     "output_type": "execute_result"
    }
   ],
   "source": [
    "pattern = re.compile(r'Mr\\.?\\s[a-zA-Z]\\w*')\n",
    "matches = pattern.findall(x)\n",
    "matches"
   ]
  },
  {
   "cell_type": "code",
   "execution_count": 114,
   "metadata": {},
   "outputs": [
    {
     "name": "stdout",
     "output_type": "stream",
     "text": [
      "<_sre.SRE_Match object; span=(107, 117), match='Mr Charles'>\n",
      "<_sre.SRE_Match object; span=(203, 213), match='Mr. Shonda'>\n",
      "<_sre.SRE_Match object; span=(288, 293), match='Mr. S'>\n",
      "<_sre.SRE_Match object; span=(370, 381), match='Mrs. Esther'>\n"
     ]
    }
   ],
   "source": [
    "pattern = re.compile(r'(Mrs|Mr)\\.?\\s[a-zA-Z]\\w*')\n",
    "matches = pattern.finditer(x)\n",
    "for m in matches:\n",
    "    print(m)"
   ]
  },
  {
   "cell_type": "code",
   "execution_count": 129,
   "metadata": {
    "collapsed": true
   },
   "outputs": [],
   "source": [
    "emails = '''\n",
    "CoreyMSchafer@gmail.com\n",
    "corey.schafer@university.edu\n",
    "corey-321-schafer@my-work.net'''"
   ]
  },
  {
   "cell_type": "code",
   "execution_count": 159,
   "metadata": {},
   "outputs": [
    {
     "name": "stdout",
     "output_type": "stream",
     "text": [
      "['CoreyMSchafer@gmail.com']\n"
     ]
    }
   ],
   "source": [
    "pattern = re.compile(r'[a-zA-Z]+@[a-zA-z]+\\.com')\n",
    "matches = pattern.findall(emails)\n",
    "print(matches)"
   ]
  },
  {
   "cell_type": "code",
   "execution_count": 131,
   "metadata": {},
   "outputs": [
    {
     "name": "stdout",
     "output_type": "stream",
     "text": [
      "<_sre.SRE_Match object; span=(1, 24), match='CoreyMSchafer@gmail.com'>\n",
      "<_sre.SRE_Match object; span=(25, 53), match='corey.schafer@university.edu'>\n"
     ]
    }
   ],
   "source": [
    "pattern = re.compile(r'[a-zA-Z.]+@[a-zA-z]+\\.(com|edu)')\n",
    "matches = pattern.finditer(emails)\n",
    "for i in matches:\n",
    "    print(i)"
   ]
  },
  {
   "cell_type": "code",
   "execution_count": 132,
   "metadata": {},
   "outputs": [
    {
     "name": "stdout",
     "output_type": "stream",
     "text": [
      "<_sre.SRE_Match object; span=(1, 24), match='CoreyMSchafer@gmail.com'>\n",
      "<_sre.SRE_Match object; span=(25, 53), match='corey.schafer@university.edu'>\n",
      "<_sre.SRE_Match object; span=(54, 83), match='corey-321-schafer@my-work.net'>\n"
     ]
    }
   ],
   "source": [
    "pattern = re.compile(r'[a-zA-Z0-9.-]+@[a-zA-z-]+\\.(com|edu|net)')\n",
    "matches = pattern.finditer(emails)\n",
    "for i in matches:\n",
    "    print(i)"
   ]
  },
  {
   "cell_type": "code",
   "execution_count": 134,
   "metadata": {},
   "outputs": [
    {
     "name": "stdout",
     "output_type": "stream",
     "text": [
      "<_sre.SRE_Match object; span=(1, 24), match='CoreyMSchafer@gmail.com'>\n",
      "<_sre.SRE_Match object; span=(25, 53), match='corey.schafer@university.edu'>\n",
      "<_sre.SRE_Match object; span=(54, 83), match='corey-321-schafer@my-work.net'>\n"
     ]
    }
   ],
   "source": [
    "pattern = re.compile(r'[a-zA-Z0-9_.+-]+@[a-zA-Z0-9-]+\\.[a-zA-Z0-9-.]+')\n",
    "matches = pattern.finditer(emails)\n",
    "for i in matches:\n",
    "    print(i)"
   ]
  },
  {
   "cell_type": "code",
   "execution_count": 135,
   "metadata": {
    "collapsed": true
   },
   "outputs": [],
   "source": [
    "urls = '''\n",
    "https://www.google.com\n",
    "http://coreyms.com\n",
    "https://youtube.com\n",
    "https://www.nasa.gov'''"
   ]
  },
  {
   "cell_type": "code",
   "execution_count": 154,
   "metadata": {},
   "outputs": [
    {
     "name": "stdout",
     "output_type": "stream",
     "text": [
      "https://www.google.com   www.   google   .com\n",
      "http://coreyms.com   None   coreyms   .com\n",
      "https://youtube.com   None   youtube   .com\n",
      "https://www.nasa.gov   www.   nasa   .gov\n"
     ]
    }
   ],
   "source": [
    "pattern = re.compile(r'https?://(www\\.)?(\\w+)(\\.\\w+)')\n",
    "matches = pattern.finditer(urls)\n",
    "for i in matches:\n",
    "    print(i.group(0), ' ', i.group(1), ' ', i.group(2), ' ', i.group(3))"
   ]
  },
  {
   "cell_type": "code",
   "execution_count": 158,
   "metadata": {},
   "outputs": [
    {
     "name": "stdout",
     "output_type": "stream",
     "text": [
      "\n",
      "google.com\n",
      "coreyms.com\n",
      "youtube.com\n",
      "nasa.gov\n"
     ]
    }
   ],
   "source": [
    "subbed_ursl = pattern.sub(r'\\2\\3', urls)\n",
    "print(subbed_ursl)"
   ]
  },
  {
   "cell_type": "raw",
   "metadata": {},
   "source": [
    "Other Methods other than finditer and findall"
   ]
  },
  {
   "cell_type": "code",
   "execution_count": 160,
   "metadata": {
    "collapsed": true
   },
   "outputs": [],
   "source": [
    "#match - matches only at the beginning of the string\n",
    "x = '''micheal265.com Eric Williams 555-431-455 806 1st St., Faketown AK 86847 laurawilliams@bogusemail.com \\n\n",
    "    Mr Charles Harris 653-455-6507 969 High St., Atlantis VA 34075 charlesharris@bogusemail.com\n",
    "    Mr. Shonda lamb 553*461*455 806 1st St., Aimket AK 8687 laurawams@bogusemail.com\n",
    "    Mr. S lamb 553.461.455 806 1st St., Aimketown AK 687 laurawams@bogusemail.com\n",
    "    Mrs. Esther lamb 549.461.455 806 1st St., Aietown AK 8647 estherwams@bogusemail.com'''"
   ]
  },
  {
   "cell_type": "code",
   "execution_count": 161,
   "metadata": {},
   "outputs": [
    {
     "name": "stdout",
     "output_type": "stream",
     "text": [
      "<_sre.SRE_Match object; span=(0, 7), match='micheal'>\n"
     ]
    }
   ],
   "source": [
    "pattern = re.compile(r'micheal')\n",
    "matches = pattern.match(x)\n",
    "print(matches)"
   ]
  },
  {
   "cell_type": "code",
   "execution_count": 162,
   "metadata": {},
   "outputs": [
    {
     "name": "stdout",
     "output_type": "stream",
     "text": [
      "None\n"
     ]
    }
   ],
   "source": [
    "#match will return an error if you try to match an element in the middle of the string\n",
    "pattern = re.compile(r'Eric')\n",
    "matches = pattern.match(x)\n",
    "print(matches)"
   ]
  },
  {
   "cell_type": "code",
   "execution_count": 165,
   "metadata": {},
   "outputs": [
    {
     "name": "stdout",
     "output_type": "stream",
     "text": [
      "<_sre.SRE_Match object; span=(15, 19), match='Eric'>\n"
     ]
    }
   ],
   "source": [
    "#search will return anything anywhere\n",
    "pattern = re.compile(r'Eric')\n",
    "matches = pattern.search(x)\n",
    "print(matches)"
   ]
  },
  {
   "cell_type": "code",
   "execution_count": 166,
   "metadata": {},
   "outputs": [
    {
     "name": "stdout",
     "output_type": "stream",
     "text": [
      "<_sre.SRE_Match object; span=(0, 7), match='micheal'>\n"
     ]
    }
   ],
   "source": [
    "pattern = re.compile(r'micheal', re.IGNORECASE)\n",
    "matches = pattern.match(x)\n",
    "print(matches)"
   ]
  },
  {
   "cell_type": "code",
   "execution_count": null,
   "metadata": {
    "collapsed": true
   },
   "outputs": [],
   "source": []
  }
 ],
 "metadata": {
  "kernelspec": {
   "display_name": "Python 3",
   "language": "python",
   "name": "python3"
  },
  "language_info": {
   "codemirror_mode": {
    "name": "ipython",
    "version": 3
   },
   "file_extension": ".py",
   "mimetype": "text/x-python",
   "name": "python",
   "nbconvert_exporter": "python",
   "pygments_lexer": "ipython3",
   "version": "3.6.3"
  }
 },
 "nbformat": 4,
 "nbformat_minor": 2
}
